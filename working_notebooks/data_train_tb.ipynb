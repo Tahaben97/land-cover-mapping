{
  "cells": [
    {
      "cell_type": "markdown",
      "id": "d0d9730e-4cfc-45ff-9a41-fbb0fdf10961",
      "metadata": {
        "id": "d0d9730e-4cfc-45ff-9a41-fbb0fdf10961"
      },
      "source": [
        "# Notebook batch-1831-land-cover-mapping"
      ]
    },
    {
      "cell_type": "markdown",
      "id": "8b182be2-614e-42cf-8a3f-57e66b27fec5",
      "metadata": {
        "id": "8b182be2-614e-42cf-8a3f-57e66b27fec5"
      },
      "source": [
        "## Imports"
      ]
    },
    {
      "cell_type": "code",
      "source": [
        "!pip install rasterio"
      ],
      "metadata": {
        "colab": {
          "base_uri": "https://localhost:8080/"
        },
        "id": "KpFSks2IPB4x",
        "outputId": "d2b697d0-94e5-4110-e5ad-5174f697d60a"
      },
      "id": "KpFSks2IPB4x",
      "execution_count": 1,
      "outputs": [
        {
          "output_type": "stream",
          "name": "stdout",
          "text": [
            "Requirement already satisfied: rasterio in /usr/local/lib/python3.10/dist-packages (1.4.3)\n",
            "Requirement already satisfied: affine in /usr/local/lib/python3.10/dist-packages (from rasterio) (2.4.0)\n",
            "Requirement already satisfied: attrs in /usr/local/lib/python3.10/dist-packages (from rasterio) (24.2.0)\n",
            "Requirement already satisfied: certifi in /usr/local/lib/python3.10/dist-packages (from rasterio) (2024.8.30)\n",
            "Requirement already satisfied: click>=4.0 in /usr/local/lib/python3.10/dist-packages (from rasterio) (8.1.7)\n",
            "Requirement already satisfied: cligj>=0.5 in /usr/local/lib/python3.10/dist-packages (from rasterio) (0.7.2)\n",
            "Requirement already satisfied: numpy>=1.24 in /usr/local/lib/python3.10/dist-packages (from rasterio) (1.26.4)\n",
            "Requirement already satisfied: click-plugins in /usr/local/lib/python3.10/dist-packages (from rasterio) (1.1.1)\n",
            "Requirement already satisfied: pyparsing in /usr/local/lib/python3.10/dist-packages (from rasterio) (3.2.0)\n"
          ]
        }
      ]
    },
    {
      "cell_type": "code",
      "execution_count": 2,
      "id": "40238749-58c3-45f9-8e30-23793e71fc4a",
      "metadata": {
        "colab": {
          "base_uri": "https://localhost:8080/"
        },
        "id": "40238749-58c3-45f9-8e30-23793e71fc4a",
        "outputId": "b78f512b-c87c-4682-db0e-177d3c0a70fa"
      },
      "outputs": [
        {
          "output_type": "stream",
          "name": "stdout",
          "text": [
            "Drive already mounted at /content/drive; to attempt to forcibly remount, call drive.mount(\"/content/drive\", force_remount=True).\n"
          ]
        }
      ],
      "source": [
        "from PIL import Image\n",
        "import numpy as np\n",
        "import pandas as pd\n",
        "from tensorflow import keras\n",
        "from tensorflow.keras import layers\n",
        "import matplotlib.pyplot as plt\n",
        "import shutil\n",
        "import os\n",
        "import rasterio\n",
        "from tensorflow.keras.layers import Input, Conv2D, MaxPooling2D, Conv2DTranspose, Concatenate\n",
        "from tensorflow.keras.models import Model\n",
        "from tensorflow.keras.utils import to_categorical\n",
        "from tensorflow.keras.callbacks import EarlyStopping\n",
        "import tensorflow as tf\n",
        "from google.colab import drive\n",
        "drive.mount('/content/drive')"
      ]
    },
    {
      "cell_type": "markdown",
      "id": "5d1dcba0-b3e6-4c61-a028-073437beea87",
      "metadata": {
        "jp-MarkdownHeadingCollapsed": true,
        "id": "5d1dcba0-b3e6-4c61-a028-073437beea87"
      },
      "source": [
        "### Approche globale\n",
        "\n",
        "- Data preparation\n",
        "- Construction et entrainement d'un premier modèle (incl. identifier un modèle plus puissant potentiellement)\n",
        "- Finetuner le modèle\n",
        "- Appliquer à google map (incl. API)\n",
        "- Construction de l'interface"
      ]
    },
    {
      "cell_type": "markdown",
      "id": "aee74982-9ed2-4fa8-ad39-07c16c681fbf",
      "metadata": {
        "id": "aee74982-9ed2-4fa8-ad39-07c16c681fbf"
      },
      "source": [
        "## Data preparation"
      ]
    },
    {
      "cell_type": "markdown",
      "id": "a5cb39aa-b8d3-4fc4-abe2-1b2846ba4284",
      "metadata": {
        "id": "a5cb39aa-b8d3-4fc4-abe2-1b2846ba4284"
      },
      "source": [
        "Télécharger l'ensemble des données, les consolder et construire le train, val, test set\n",
        "\n",
        "**Approche :**\n",
        "- Télécharger les set de données (OpenG & XBD), consolider l'ensemble\n",
        "- Identifier le nom des images pour les sets (train/val/test)\n",
        "- Processer les images (ex: np.transpose)\n",
        "- Calculer les différentes résolutions disponibles et les cas à appliquer (crop/diviser les images) pour faciliter l'entrainement\n",
        "- Vérifier si certaines données (esp. labels) sont manquantes\n",
        "- Construire les dossier train / val + test\n",
        "- Processer la donnée (ex : /255)"
      ]
    },
    {
      "cell_type": "markdown",
      "id": "e2d80595-372c-47d7-8810-5564fe12a44c",
      "metadata": {
        "id": "e2d80595-372c-47d7-8810-5564fe12a44c"
      },
      "source": [
        "### Uploader les images manquantes de XBD"
      ]
    },
    {
      "cell_type": "code",
      "execution_count": null,
      "id": "3c189af0-2a23-4c40-9f33-1bbc1e3cc778",
      "metadata": {
        "id": "3c189af0-2a23-4c40-9f33-1bbc1e3cc778"
      },
      "outputs": [],
      "source": [
        "########### IL VA FALLOIR UPLOADER LES ELEMENTS MANQUANTS ################\n",
        "\n",
        "# Code qui regarde un csv, cherche le bon fichier dans la BDD XBD, le transforme en numpy array (code Chat utile)\n",
        "# et le met dans le bon dossier avec le bon nom via la table de correspondance"
      ]
    },
    {
      "cell_type": "code",
      "execution_count": null,
      "id": "c496d406-a269-4403-885b-affa35f7fe7b",
      "metadata": {
        "id": "c496d406-a269-4403-885b-affa35f7fe7b"
      },
      "outputs": [],
      "source": [
        "# ✅✅✅✅✅\n",
        "\n",
        "# On pourrait directement passer à l'étape construire les dossiers train/val/test mais je préfère avoir un bon raw data consolidée\n",
        "\n",
        "#def xbd_paths(path):\n",
        "    #On charge le fichier de correspondance pour le manipuler et construire les chemins sources & destination\n",
        "    #df = pd.read_csv(path, header = None, names = [\"source\", \"destination\"])\n",
        "    #df['source'] = df['source'].str.replace(\".png\",  \".tif\")\n",
        "\n",
        "    #on construit les chemins sources où chercher les images\n",
        "    #sources = list(df[\"source\"])\n",
        "    #sources = [\"raw_data/XBD/images/\" + source for source in sources]\n",
        "\n",
        "    #on construit les chemins de destinations où iront les images\n",
        "    #destinations = list(df[\"destination\"])\n",
        "    #destination_paths = []\n",
        "    #dossiers = []\n",
        "    #for destination in destinations:\n",
        "        #dossier = \"_\".join(destination.split(\"_\")[:-1])\n",
        "        #dossiers.append(dossier) # Certains noms de ville sont composés, il faut tout prendre sauf ce qui vient après le dernier _\n",
        "        #destination_paths.append(\"raw_data/\" + dossier + \"/images/\" + destination)\n",
        "    #return sources, destination_paths, dossiers"
      ]
    },
    {
      "cell_type": "code",
      "execution_count": null,
      "id": "f34c4565-8516-475a-8fba-ec53f4d2fc39",
      "metadata": {
        "id": "f34c4565-8516-475a-8fba-ec53f4d2fc39"
      },
      "outputs": [],
      "source": [
        "### ✅✅✅✅✅ On construit les variables de paths pour copier les fichiers\n",
        "#sources, destinations, dossiers = xbd_paths(\"raw_data/xbd_files.csv\")"
      ]
    },
    {
      "cell_type": "code",
      "execution_count": null,
      "id": "5fb780f7-3c7b-479b-a1c3-a4d344059033",
      "metadata": {
        "scrolled": true,
        "id": "5fb780f7-3c7b-479b-a1c3-a4d344059033"
      },
      "outputs": [],
      "source": [
        "### ✅✅✅✅✅ On prend chaque fichier, on le convertit en numpy array et on le met dans les bons dossiers\n",
        "\n",
        "#for source, destination in zip(sources, destinations):\n",
        "    #shutil.copy(source, destination)"
      ]
    },
    {
      "cell_type": "markdown",
      "id": "36b397a0-7335-42db-a8c3-201be035b2b7",
      "metadata": {
        "id": "36b397a0-7335-42db-a8c3-201be035b2b7"
      },
      "source": [
        "### Exploration de la donnée et listing de fichiers à prendre"
      ]
    },
    {
      "cell_type": "code",
      "execution_count": null,
      "id": "9d2c5154-a066-4342-94cf-14fb7d7fa3b7",
      "metadata": {
        "colab": {
          "base_uri": "https://localhost:8080/",
          "height": 71
        },
        "id": "9d2c5154-a066-4342-94cf-14fb7d7fa3b7",
        "outputId": "91636fd4-4f82-4eea-a8d5-0c4f4664dc43"
      },
      "outputs": [
        {
          "output_type": "execute_result",
          "data": {
            "text/plain": [
              "'def read_txt(donnee):\\n    with open(f\"raw_data/{donnee}.txt\", \\'r\\') as file:\\n        lines = file.readlines()\\n        X = []\\n        y = []\\n        for line in lines:\\n            region = line.split(\"_\")[0]\\n            title = line.replace(\\'\\n\\', \\'\\')\\n            X.append(\"raw_data/\"+ region + \"/images/\" + title)\\n            y.append(\"raw_data/\"+ region + \"/labels/\" + title)\\n        return X, y'"
            ],
            "application/vnd.google.colaboratory.intrinsic+json": {
              "type": "string"
            }
          },
          "metadata": {},
          "execution_count": 7
        }
      ],
      "source": [
        "#✅✅✅✅✅ Création d'un listes avec les noms des fichiers à prendre\n",
        "\n",
        "#On construit une fonction qui va retourner le chemin vers 1)\n",
        "#les images du X 2) les images du y - en fonction du paramètre donnee qui est \"train\", \"test\", \"val\"\n",
        "'''def read_txt(donnee):\n",
        "    with open(f\"raw_data/{donnee}.txt\", 'r') as file:\n",
        "        lines = file.readlines()\n",
        "        X = []\n",
        "        y = []\n",
        "        for line in lines:\n",
        "            region = line.split(\"_\")[0]\n",
        "            title = line.replace('\\n', '')\n",
        "            X.append(\"raw_data/\"+ region + \"/images/\" + title)\n",
        "            y.append(\"raw_data/\"+ region + \"/labels/\" + title)\n",
        "        return X, y'''"
      ]
    },
    {
      "cell_type": "code",
      "execution_count": null,
      "id": "2fee1c20-c041-401e-b49f-db04e7ff94f0",
      "metadata": {
        "id": "2fee1c20-c041-401e-b49f-db04e7ff94f0"
      },
      "outputs": [],
      "source": [
        "# ✅✅✅✅✅ On crée les listes pour les différents train et test\n",
        "#X_train_set, y_train_set = read_txt(\"train\")\n",
        "#X_val_set, y_val_set = read_txt(\"val\")\n",
        "#X_test_set, y_test_set = read_txt(\"test\")"
      ]
    },
    {
      "cell_type": "code",
      "execution_count": null,
      "id": "e066812b-46af-44fd-821e-260bd5effa9a",
      "metadata": {
        "id": "e066812b-46af-44fd-821e-260bd5effa9a"
      },
      "outputs": [],
      "source": []
    },
    {
      "cell_type": "code",
      "execution_count": null,
      "id": "03ea9a68-163b-44b1-b1f2-ce14013320c1",
      "metadata": {
        "scrolled": true,
        "colab": {
          "base_uri": "https://localhost:8080/",
          "height": 125
        },
        "id": "03ea9a68-163b-44b1-b1f2-ce14013320c1",
        "outputId": "674afc1a-f3e1-402d-f976-aca1243a0231"
      },
      "outputs": [
        {
          "output_type": "execute_result",
          "data": {
            "text/plain": [
              "'X_train_set_final = []\\ny_train_set_final = []\\ntrain_files = []\\n\\nX_val_set_final = []\\ny_val_set_final = []\\nval_files = []\\n\\nX_test_set_final = []\\ny_test_set_final = []\\ntest_files = []\\n\\n\\nfor X, y in zip(X_train_set, y_train_set): \\n    if os.path.isfile(X) == True and os.path.isfile(y) == True:\\n        X_train_set_final.append(X)\\n        y_train_set_final.append(y)\\n        train_files.append(X.split(\"/\")[-1])\\n\\nfor X , y  in zip(X_test_set, y_test_set): \\n    if os.path.isfile(X) == True and os.path.isfile(y) == True:\\n        X_test_set_final.append(X)\\n        y_test_set_final.append(y)\\n        test_files.append(X.split(\"/\")[-1])\\n\\n\\nfor X, y  in zip(X_val_set, y_val_set): \\n    if os.path.isfile(X) == True and os.path.isfile(y) == True:\\n        X_val_set_final.append(X)\\n        y_val_set_final.append(y)\\n        val_files.append(X.split(\"/\")[-1])'"
            ],
            "application/vnd.google.colaboratory.intrinsic+json": {
              "type": "string"
            }
          },
          "metadata": {},
          "execution_count": 9
        }
      ],
      "source": [
        "# ✅✅✅✅✅ On definit nos set de données finaux (quand X et y existent)\n",
        "\"\"\"X_train_set_final = []\n",
        "y_train_set_final = []\n",
        "train_files = []\n",
        "\n",
        "X_val_set_final = []\n",
        "y_val_set_final = []\n",
        "val_files = []\n",
        "\n",
        "X_test_set_final = []\n",
        "y_test_set_final = []\n",
        "test_files = []\n",
        "\n",
        "\n",
        "for X, y in zip(X_train_set, y_train_set):\n",
        "    if os.path.isfile(X) == True and os.path.isfile(y) == True:\n",
        "        X_train_set_final.append(X)\n",
        "        y_train_set_final.append(y)\n",
        "        train_files.append(X.split(\"/\")[-1])\n",
        "\n",
        "for X , y  in zip(X_test_set, y_test_set):\n",
        "    if os.path.isfile(X) == True and os.path.isfile(y) == True:\n",
        "        X_test_set_final.append(X)\n",
        "        y_test_set_final.append(y)\n",
        "        test_files.append(X.split(\"/\")[-1])\n",
        "\n",
        "\n",
        "for X, y  in zip(X_val_set, y_val_set):\n",
        "    if os.path.isfile(X) == True and os.path.isfile(y) == True:\n",
        "        X_val_set_final.append(X)\n",
        "        y_val_set_final.append(y)\n",
        "        val_files.append(X.split(\"/\")[-1])\"\"\""
      ]
    },
    {
      "cell_type": "markdown",
      "id": "1074b742-1183-43e2-9f39-f0d62fef439b",
      "metadata": {
        "id": "1074b742-1183-43e2-9f39-f0d62fef439b"
      },
      "source": [
        "### Construction des dossiers train/val/test"
      ]
    },
    {
      "cell_type": "code",
      "execution_count": null,
      "id": "a8aba01f-bdcf-4876-8022-2df1b8e4fb4f",
      "metadata": {
        "id": "a8aba01f-bdcf-4876-8022-2df1b8e4fb4f"
      },
      "outputs": [],
      "source": []
    },
    {
      "cell_type": "code",
      "execution_count": null,
      "id": "298aec2c-2465-4aaf-807d-3cec8cc05d3d",
      "metadata": {
        "scrolled": true,
        "colab": {
          "base_uri": "https://localhost:8080/",
          "height": 71
        },
        "id": "298aec2c-2465-4aaf-807d-3cec8cc05d3d",
        "outputId": "a93257a5-0e9c-4a23-fa35-e9ce5342e790"
      },
      "outputs": [
        {
          "output_type": "execute_result",
          "data": {
            "text/plain": [
              "'for  X_val, y_val in zip( X_val_set_final, y_val_set_final):\\n\\n    dst_X_val = \"clean_data/val/images/\"\\n    os.makedirs(os.path.dirname(dst_X_val), exist_ok=True)\\n    shutil.copy(X_val, dst_X_val + X_val.split(\"/\")[-1])\\n\\n    dst_y_val = \"clean_data/val/labels/\"\\n    os.makedirs(os.path.dirname(dst_y_val), exist_ok=True)\\n    shutil.copy(y_val, dst_y_val + y_val.split(\"/\")[-1])'"
            ],
            "application/vnd.google.colaboratory.intrinsic+json": {
              "type": "string"
            }
          },
          "metadata": {},
          "execution_count": 10
        }
      ],
      "source": [
        "# ✅✅✅✅✅ On construit une fonction qui va aller chercher les images dont le chemin est\n",
        "#indiqué dans le set et les sauvegarder dans un dossier train ou val (en fonction du X et du y)\n",
        "#i = 0\n",
        "# on copie les fichiers pour le train\n",
        "\"\"\"for X_train, y_train in zip(X_train_set_final, y_train_set_final):\n",
        "    dst_X_train = \"clean_data/train/images/\"\n",
        "    os.makedirs(os.path.dirname(dst_X_train), exist_ok=True)\n",
        "    shutil.copy(X_train, dst_X_train + X_train.split(\"/\")[-1])\n",
        "\n",
        "    dst_y_train = \"clean_data/train/labels/\"\n",
        "    os.makedirs(os.path.dirname(dst_y_train), exist_ok=True)\n",
        "    shutil.copy(y_train, dst_y_train + y_train.split(\"/\")[-1])\"\"\"\n",
        "\n",
        "\n",
        "#on copie les fichiers sur le val\n",
        "\n",
        "\"\"\"for  X_val, y_val in zip( X_val_set_final, y_val_set_final):\n",
        "\n",
        "    dst_X_val = \"clean_data/val/images/\"\n",
        "    os.makedirs(os.path.dirname(dst_X_val), exist_ok=True)\n",
        "    shutil.copy(X_val, dst_X_val + X_val.split(\"/\")[-1])\n",
        "\n",
        "    dst_y_val = \"clean_data/val/labels/\"\n",
        "    os.makedirs(os.path.dirname(dst_y_val), exist_ok=True)\n",
        "    shutil.copy(y_val, dst_y_val + y_val.split(\"/\")[-1])\"\"\""
      ]
    },
    {
      "cell_type": "code",
      "execution_count": null,
      "id": "e7dd960d-fb0b-4e3a-89d1-f12b10cf6188",
      "metadata": {
        "colab": {
          "base_uri": "https://localhost:8080/",
          "height": 71
        },
        "id": "e7dd960d-fb0b-4e3a-89d1-f12b10cf6188",
        "outputId": "f4619800-16c9-45d0-f171-38a1fcbbf068"
      },
      "outputs": [
        {
          "output_type": "execute_result",
          "data": {
            "text/plain": [
              "'def slicing(image_array, nb_tuiles):\\n    tuiles_arrays = []\\n    for tuiles_verticales in range(nb_tuiles):\\n        for tuiles_horizontales in range(nb_tuiles):\\n            tuiles_arrays.append(image_array[tuiles_verticales * 256 : 256 * (tuiles_verticales + 1),                                 tuiles_horizontales * 256: 256 * (tuiles_horizontales + 1)])\\n    return tuiles_arrays'"
            ],
            "application/vnd.google.colaboratory.intrinsic+json": {
              "type": "string"
            }
          },
          "metadata": {},
          "execution_count": 11
        }
      ],
      "source": [
        "### ✅✅✅✅✅ Fonction pour slicer une image\n",
        "'''def slicing(image_array, nb_tuiles):\n",
        "    tuiles_arrays = []\n",
        "    for tuiles_verticales in range(nb_tuiles):\n",
        "        for tuiles_horizontales in range(nb_tuiles):\n",
        "            tuiles_arrays.append(image_array[tuiles_verticales * 256 : 256 * (tuiles_verticales + 1),\\\n",
        "                                 tuiles_horizontales * 256: 256 * (tuiles_horizontales + 1)])\n",
        "    return tuiles_arrays'''"
      ]
    },
    {
      "cell_type": "code",
      "execution_count": null,
      "id": "382bdaf4-a39a-4160-922c-46ccc30bcc42",
      "metadata": {
        "colab": {
          "base_uri": "https://localhost:8080/",
          "height": 53
        },
        "id": "382bdaf4-a39a-4160-922c-46ccc30bcc42",
        "outputId": "bb709981-09ce-41b2-bba2-96c5317667db"
      },
      "outputs": [
        {
          "output_type": "execute_result",
          "data": {
            "text/plain": [
              "'with rasterio.open(\"clean_data/train/images/zanzibar_53.tif\") as src:\\n    image_array = src.read()  # (nb_bands, height, width)\\n    image_array = np.transpose(image_array, (1, 2, 0))\\ntuiles_arrays = slicing(image_array, 4)'"
            ],
            "application/vnd.google.colaboratory.intrinsic+json": {
              "type": "string"
            }
          },
          "metadata": {},
          "execution_count": 12
        }
      ],
      "source": [
        "'''with rasterio.open(\"clean_data/train/images/zanzibar_53.tif\") as src:\n",
        "    image_array = src.read()  # (nb_bands, height, width)\n",
        "    image_array = np.transpose(image_array, (1, 2, 0))\n",
        "tuiles_arrays = slicing(image_array, 4)'''"
      ]
    },
    {
      "cell_type": "code",
      "execution_count": null,
      "id": "5f399128-7b0c-433c-a7a5-acea9d0b5fe4",
      "metadata": {
        "colab": {
          "base_uri": "https://localhost:8080/",
          "height": 89
        },
        "id": "5f399128-7b0c-433c-a7a5-acea9d0b5fe4",
        "outputId": "eda5e3d2-ec27-45f7-d238-63fec7fe7775"
      },
      "outputs": [
        {
          "output_type": "execute_result",
          "data": {
            "text/plain": [
              "'def save_tuile(tuiles_arrays, train_file, data_set, images_or_label ):\\n    path = \"processed_data/\" + data_set + \"/\" + images_or_label + \"/\"\\n    os.makedirs(os.path.dirname(path), exist_ok=True)\\n    for tuile_id, tuile_array in enumerate(tuiles_arrays):\\n        if tuile_array.shape[-1] == 1 :\\n            tuile_array = np.squeeze(tuile_array)\\n        tuile_array = tuile_array.astype(\"uint8\")\\n        image = Image.fromarray(tuile_array)\\n        image.save(path + \"/\"  + train_file.split(\".\")[0] + \"_\" + str(tuile_id + 1) + \".tif\")'"
            ],
            "application/vnd.google.colaboratory.intrinsic+json": {
              "type": "string"
            }
          },
          "metadata": {},
          "execution_count": 13
        }
      ],
      "source": [
        "'''def save_tuile(tuiles_arrays, train_file, data_set, images_or_label ):\n",
        "    path = \"processed_data/\" + data_set + \"/\" + images_or_label + \"/\"\n",
        "    os.makedirs(os.path.dirname(path), exist_ok=True)\n",
        "    for tuile_id, tuile_array in enumerate(tuiles_arrays):\n",
        "        if tuile_array.shape[-1] == 1 :\n",
        "            tuile_array = np.squeeze(tuile_array)\n",
        "        tuile_array = tuile_array.astype(\"uint8\")\n",
        "        image = Image.fromarray(tuile_array)\n",
        "        image.save(path + \"/\"  + train_file.split(\".\")[0] + \"_\" + str(tuile_id + 1) + \".tif\")'''\n"
      ]
    },
    {
      "cell_type": "code",
      "execution_count": null,
      "id": "4819a730-a9a8-4c5c-9615-a2c0e2b6a1a5",
      "metadata": {
        "colab": {
          "base_uri": "https://localhost:8080/",
          "height": 143
        },
        "id": "4819a730-a9a8-4c5c-9615-a2c0e2b6a1a5",
        "outputId": "eb42cfb4-a714-479b-b8bd-ebf431504a62"
      },
      "outputs": [
        {
          "output_type": "execute_result",
          "data": {
            "text/plain": [
              "'def crop_tuile(data_set):\\n    if data_set == \"train\":\\n        files = train_files\\n    elif data_set == \"val\":\\n        files = val_files\\n    path = \"clean_data/\" + data_set + \"/\"\\n    #On ouvre chaque image X puis chaque image y. Commençons par les X\\n    ## Ouverture des X - théoriquement les images seront de même taille\\n    for file in files:\\n        \\n        with rasterio.open(path + \"images/\" + file) as src:\\n            image_array = src.read()  # (nb_bands, height, width)\\n            image_array = np.transpose(image_array, (1, 2, 0))\\n        \\n        #ensuite on regarde en combien de tuiles on peut le faire\\n        nb_tuiles = (image_array.shape[0] // 256) # Sur une longueur ou hauteur on peut fiter nb_tuiles + un reste de pixels qui sera perdu\\n        tuiles_totales = nb_tuiles **2 # ça nous aidera pour le nommage des tuiles (ex = aachen_1_2 - tuile 2 de la photo aachen_1\\n        #il faudra donc slicer en nb_tuiles à la verticale et à la horizontale\\n\\n        #On va slicer le X\\n        tuiles_arrays = slicing(image_array, nb_tuiles)\\n        #on va sauvegarder les tuiles dans le fichier processed_data/train/images/X\\n        save_tuile(tuiles_arrays, file, data_set, \"images\")\\n    \\n        with rasterio.open(path + \"labels/\" + file) as src:\\n            image_array = src.read()  # (nb_bands, height, width)\\n            image_array = np.transpose(image_array, (1, 2, 0))\\n\\n        #on slide le y de la même manière que le X avec la même convention de nommage (donc le même nom \\n\\n        tuiles_arrays = slicing(image_array, nb_tuiles)\\n        #on va sauvegarder les tuiles dans le fichier processed_data/train/images/X\\n        save_tuile(tuiles_arrays, file, data_set, \"labels\")'"
            ],
            "application/vnd.google.colaboratory.intrinsic+json": {
              "type": "string"
            }
          },
          "metadata": {},
          "execution_count": 14
        }
      ],
      "source": [
        "'''def crop_tuile(data_set):\n",
        "    if data_set == \"train\":\n",
        "        files = train_files\n",
        "    elif data_set == \"val\":\n",
        "        files = val_files\n",
        "    path = \"clean_data/\" + data_set + \"/\"\n",
        "    #On ouvre chaque image X puis chaque image y. Commençons par les X\n",
        "    ## Ouverture des X - théoriquement les images seront de même taille\n",
        "    for file in files:\n",
        "\n",
        "        with rasterio.open(path + \"images/\" + file) as src:\n",
        "            image_array = src.read()  # (nb_bands, height, width)\n",
        "            image_array = np.transpose(image_array, (1, 2, 0))\n",
        "\n",
        "        #ensuite on regarde en combien de tuiles on peut le faire\n",
        "        nb_tuiles = (image_array.shape[0] // 256) # Sur une longueur ou hauteur on peut fiter nb_tuiles + un reste de pixels qui sera perdu\n",
        "        tuiles_totales = nb_tuiles **2 # ça nous aidera pour le nommage des tuiles (ex = aachen_1_2 - tuile 2 de la photo aachen_1\n",
        "        #il faudra donc slicer en nb_tuiles à la verticale et à la horizontale\n",
        "\n",
        "        #On va slicer le X\n",
        "        tuiles_arrays = slicing(image_array, nb_tuiles)\n",
        "        #on va sauvegarder les tuiles dans le fichier processed_data/train/images/X\n",
        "        save_tuile(tuiles_arrays, file, data_set, \"images\")\n",
        "\n",
        "        with rasterio.open(path + \"labels/\" + file) as src:\n",
        "            image_array = src.read()  # (nb_bands, height, width)\n",
        "            image_array = np.transpose(image_array, (1, 2, 0))\n",
        "\n",
        "        #on slide le y de la même manière que le X avec la même convention de nommage (donc le même nom\n",
        "\n",
        "        tuiles_arrays = slicing(image_array, nb_tuiles)\n",
        "        #on va sauvegarder les tuiles dans le fichier processed_data/train/images/X\n",
        "        save_tuile(tuiles_arrays, file, data_set, \"labels\")'''\n"
      ]
    },
    {
      "cell_type": "code",
      "execution_count": null,
      "id": "99ae17bd-6b0d-4863-a34b-46bbe176ce88",
      "metadata": {
        "scrolled": true,
        "id": "99ae17bd-6b0d-4863-a34b-46bbe176ce88"
      },
      "outputs": [],
      "source": [
        "#crop_tuile(\"train\")\n",
        "#crop_tuile(\"val\")"
      ]
    },
    {
      "cell_type": "markdown",
      "id": "18ff50bd-0fee-4f0b-83aa-9aa6ec67e9c5",
      "metadata": {
        "id": "18ff50bd-0fee-4f0b-83aa-9aa6ec67e9c5"
      },
      "source": [
        "## Construction du modèle"
      ]
    },
    {
      "cell_type": "markdown",
      "id": "bfb7d80d-4f4d-4274-987b-cfa4d696d809",
      "metadata": {
        "id": "bfb7d80d-4f4d-4274-987b-cfa4d696d809"
      },
      "source": [
        "### Definition du modèle UNET et initialisation"
      ]
    },
    {
      "cell_type": "code",
      "source": [
        "# Weighted crossentropy loss\n",
        "\n",
        "def weighted_categorical_crossentropy(weights):\n",
        "    def loss(y_true, y_pred):\n",
        "        y_pred = tf.keras.backend.clip(y_pred, 1e-7, 1 - 1e-7)\n",
        "        return tf.reduce_mean(-tf.reduce_sum(weights * y_true * tf.math.log(y_pred), axis=-1))\n",
        "    return loss\n",
        "\n",
        "# Exemple d'utilisation :\n",
        "class_weights = tf.constant([1.0, 2.0, 0.5, 1.5])  # Exemple de poids pour chaque classe\n",
        "loss_fn = weighted_categorical_crossentropy(class_weights)"
      ],
      "metadata": {
        "id": "kelhHxxCznm-"
      },
      "id": "kelhHxxCznm-",
      "execution_count": 78,
      "outputs": []
    },
    {
      "cell_type": "code",
      "source": [
        "# Dice loss\n",
        "\n",
        "def dice_loss(y_true, y_pred, smooth=1e-6):\n",
        "    y_pred = tf.keras.backend.clip(y_pred, 1e-7, 1 - 1e-7)\n",
        "    intersection = tf.reduce_sum(y_true * y_pred, axis=[1, 2, 3])\n",
        "    union = tf.reduce_sum(y_true, axis=[1, 2, 3]) + tf.reduce_sum(y_pred, axis=[1, 2, 3])\n",
        "    dice = (2. * intersection + smooth) / (union + smooth)\n",
        "    return 1 - dice"
      ],
      "metadata": {
        "id": "GsF2p7QnzrGN"
      },
      "id": "GsF2p7QnzrGN",
      "execution_count": 79,
      "outputs": []
    },
    {
      "cell_type": "code",
      "source": [
        "# Focal loss\n",
        "\n",
        "def focal_loss(alpha=0.25, gamma=2.0):\n",
        "    def loss(y_true, y_pred):\n",
        "        y_pred = tf.keras.backend.clip(y_pred, 1e-7, 1 - 1e-7)\n",
        "        pt = tf.where(tf.equal(y_true, 1), y_pred, 1 - y_pred)\n",
        "        return -tf.reduce_mean(alpha * tf.pow(1. - pt, gamma) * tf.math.log(pt))\n",
        "    return loss\n",
        "\n",
        "# Exemple d'utilisation :\n",
        "loss_fn = focal_loss(alpha=0.25, gamma=2.0)"
      ],
      "metadata": {
        "id": "ID_rPboMz0TI"
      },
      "id": "ID_rPboMz0TI",
      "execution_count": 80,
      "outputs": []
    },
    {
      "cell_type": "code",
      "source": [
        "# Combo loss\n",
        "\n",
        "def combo_loss(alpha=0.5):\n",
        "    def loss(y_true, y_pred):\n",
        "        ce_loss = tf.keras.losses.categorical_crossentropy(y_true, y_pred)\n",
        "        d_loss = dice_loss(y_true, y_pred)\n",
        "        return alpha * ce_loss + (1 - alpha) * d_loss\n",
        "    return loss\n",
        "\n",
        "# Exemple d'utilisation :\n",
        "loss_fn = combo_loss(alpha=0.5)"
      ],
      "metadata": {
        "id": "XHAjE-vdgHb-"
      },
      "id": "XHAjE-vdgHb-",
      "execution_count": 81,
      "outputs": []
    },
    {
      "cell_type": "code",
      "source": [
        "\n",
        "def combo_loss_new(alpha=0.5, smooth=1e-6):\n",
        "    \"\"\"\n",
        "    Fonction de perte combinée (Dice Loss + Cross-Entropy Loss).\n",
        "\n",
        "    Args:\n",
        "        alpha (float): Poids entre Dice Loss (1-alpha) et Cross-Entropy Loss (alpha).\n",
        "        smooth (float): Terme pour éviter la division par zéro dans Dice Loss.\n",
        "\n",
        "    Returns:\n",
        "        Function: Fonction de perte personnalisée.\n",
        "    \"\"\"\n",
        "    def loss(y_true, y_pred):\n",
        "        \"\"\"\n",
        "        Args:\n",
        "            y_true (tf.Tensor): Étiquettes réelles, [batch_size, height, width] ou one-hot.\n",
        "            y_pred (tf.Tensor): Prédictions softmax, [batch_size, height, width, num_classes].\n",
        "\n",
        "        Returns:\n",
        "            tf.Tensor: Moyenne de la perte sur le batch.\n",
        "        \"\"\"\n",
        "        # Vérifier si les étiquettes sont one-hot encodées, sinon les encoder\n",
        "        if len(y_true.shape) == len(y_pred.shape) - 1:  # Si pas one-hot encodé\n",
        "            num_classes = tf.shape(y_pred)[-1]\n",
        "            y_true = tf.one_hot(tf.cast(y_true, tf.int32), depth=num_classes)\n",
        "\n",
        "        # Vérifier que y_true et y_pred ont les mêmes dimensions\n",
        "        assert y_true.shape == y_pred.shape, f\"Shapes incompatibles: {y_true.shape} vs {y_pred.shape}\"\n",
        "\n",
        "        # Limiter les prédictions pour éviter les instabilités numériques\n",
        "        y_pred = tf.clip_by_value(y_pred, 1e-7, 1 - 1e-7)\n",
        "\n",
        "        # Calcul de Dice Loss\n",
        "        intersection = tf.reduce_sum(y_true * y_pred, axis=[1, 2, 3])\n",
        "        union = tf.reduce_sum(y_true, axis=[1, 2, 3]) + tf.reduce_sum(y_pred, axis=[1, 2, 3])\n",
        "        dice_loss = 1 - (2. * intersection + smooth) / (union + smooth)\n",
        "\n",
        "        # Calcul de Cross-Entropy Loss\n",
        "        cross_entropy_loss = tf.reduce_mean(-tf.reduce_sum(y_true * tf.math.log(y_pred), axis=-1))\n",
        "\n",
        "        # Combinaison des deux pertes\n",
        "        return alpha * cross_entropy_loss + (1 - alpha) * dice_loss\n",
        "\n",
        "    return loss"
      ],
      "metadata": {
        "id": "7OJHA9-Q_F4E"
      },
      "id": "7OJHA9-Q_F4E",
      "execution_count": 82,
      "outputs": []
    },
    {
      "cell_type": "code",
      "source": [
        "def iou_loss(smooth=1e-6):\n",
        "    \"\"\"\n",
        "    Implements the IoU Loss function for image segmentation.\n",
        "\n",
        "    Args:\n",
        "        smooth (float): Small value to avoid division by zero.\n",
        "\n",
        "    Returns:\n",
        "        Function: IoU loss function.\n",
        "    \"\"\"\n",
        "    def loss(y_true, y_pred):\n",
        "        \"\"\"\n",
        "        Args:\n",
        "            y_true (tf.Tensor): Ground truth mask, shape [batch_size, height, width, num_classes].\n",
        "                                Can be one-hot encoded or scalar.\n",
        "            y_pred (tf.Tensor): Predicted mask, shape [batch_size, height, width, num_classes].\n",
        "                                Softmax probabilities.\n",
        "\n",
        "        Returns:\n",
        "            tf.Tensor: Mean IoU loss over the batch.\n",
        "        \"\"\"\n",
        "        # Ensure y_true is one-hot encoded\n",
        "        if len(y_true.shape) == len(y_pred.shape) - 1:\n",
        "            num_classes = tf.shape(y_pred)[-1]\n",
        "            y_true = tf.one_hot(tf.cast(y_true, tf.int32), depth=num_classes)\n",
        "\n",
        "        # Clip predictions to avoid numerical instability\n",
        "        y_pred = tf.clip_by_value(y_pred, 1e-7, 1 - 1e-7)\n",
        "\n",
        "        # Calculate intersection and union\n",
        "        intersection = tf.reduce_sum(y_true * y_pred, axis=[1, 2, 3])\n",
        "        union = tf.reduce_sum(y_true + y_pred, axis=[1, 2, 3]) - intersection\n",
        "\n",
        "        # IoU calculation\n",
        "        iou = (intersection + smooth) / (union + smooth)\n",
        "\n",
        "        # IoU loss\n",
        "        iou_loss = 1 - iou\n",
        "\n",
        "        # Mean IoU loss across the batch\n",
        "        return tf.reduce_mean(iou_loss)\n",
        "\n",
        "    return loss"
      ],
      "metadata": {
        "id": "-bPcpywcBNMH"
      },
      "id": "-bPcpywcBNMH",
      "execution_count": 83,
      "outputs": []
    },
    {
      "cell_type": "code",
      "source": [
        "def combined_loss(alpha=0.5):\n",
        "    \"\"\"\n",
        "    Combines IoU Loss and Dice Loss.\n",
        "\n",
        "    Args:\n",
        "        alpha (float): Weighting between IoU Loss and Dice Loss.\n",
        "\n",
        "    Returns:\n",
        "        Function: Combined loss function.\n",
        "    \"\"\"\n",
        "    iou_loss_fn = iou_loss()\n",
        "\n",
        "    def loss(y_true, y_pred):\n",
        "        return alpha * iou_loss_fn(y_true, y_pred) + (1 - alpha) * dice_loss(y_true, y_pred)\n",
        "\n",
        "    return loss"
      ],
      "metadata": {
        "id": "XV6K_P3yB5Qw"
      },
      "id": "XV6K_P3yB5Qw",
      "execution_count": 96,
      "outputs": []
    },
    {
      "cell_type": "code",
      "execution_count": 99,
      "id": "77376d5c-a9d6-42e1-ba40-9c6dfbadeef4",
      "metadata": {
        "colab": {
          "base_uri": "https://localhost:8080/",
          "height": 1000
        },
        "id": "77376d5c-a9d6-42e1-ba40-9c6dfbadeef4",
        "outputId": "4d559517-89ec-41cf-845b-1b62a8cd929a"
      },
      "outputs": [
        {
          "output_type": "display_data",
          "data": {
            "text/plain": [
              "\u001b[1mModel: \"U-Net\"\u001b[0m\n"
            ],
            "text/html": [
              "<pre style=\"white-space:pre;overflow-x:auto;line-height:normal;font-family:Menlo,'DejaVu Sans Mono',consolas,'Courier New',monospace\"><span style=\"font-weight: bold\">Model: \"U-Net\"</span>\n",
              "</pre>\n"
            ]
          },
          "metadata": {}
        },
        {
          "output_type": "display_data",
          "data": {
            "text/plain": [
              "┏━━━━━━━━━━━━━━━━━━━━━━━━━━━┳━━━━━━━━━━━━━━━━━━━━━━━━┳━━━━━━━━━━━━━━━━┳━━━━━━━━━━━━━━━━━━━━━━━━┓\n",
              "┃\u001b[1m \u001b[0m\u001b[1mLayer (type)             \u001b[0m\u001b[1m \u001b[0m┃\u001b[1m \u001b[0m\u001b[1mOutput Shape          \u001b[0m\u001b[1m \u001b[0m┃\u001b[1m \u001b[0m\u001b[1m       Param #\u001b[0m\u001b[1m \u001b[0m┃\u001b[1m \u001b[0m\u001b[1mConnected to          \u001b[0m\u001b[1m \u001b[0m┃\n",
              "┡━━━━━━━━━━━━━━━━━━━━━━━━━━━╇━━━━━━━━━━━━━━━━━━━━━━━━╇━━━━━━━━━━━━━━━━╇━━━━━━━━━━━━━━━━━━━━━━━━┩\n",
              "│ input_layer_18            │ (\u001b[38;5;45mNone\u001b[0m, \u001b[38;5;34m256\u001b[0m, \u001b[38;5;34m256\u001b[0m, \u001b[38;5;34m3\u001b[0m)    │              \u001b[38;5;34m0\u001b[0m │ -                      │\n",
              "│ (\u001b[38;5;33mInputLayer\u001b[0m)              │                        │                │                        │\n",
              "├───────────────────────────┼────────────────────────┼────────────────┼────────────────────────┤\n",
              "│ conv2d_342 (\u001b[38;5;33mConv2D\u001b[0m)       │ (\u001b[38;5;45mNone\u001b[0m, \u001b[38;5;34m256\u001b[0m, \u001b[38;5;34m256\u001b[0m, \u001b[38;5;34m64\u001b[0m)   │          \u001b[38;5;34m1,792\u001b[0m │ input_layer_18[\u001b[38;5;34m0\u001b[0m][\u001b[38;5;34m0\u001b[0m]   │\n",
              "├───────────────────────────┼────────────────────────┼────────────────┼────────────────────────┤\n",
              "│ conv2d_343 (\u001b[38;5;33mConv2D\u001b[0m)       │ (\u001b[38;5;45mNone\u001b[0m, \u001b[38;5;34m256\u001b[0m, \u001b[38;5;34m256\u001b[0m, \u001b[38;5;34m64\u001b[0m)   │         \u001b[38;5;34m36,928\u001b[0m │ conv2d_342[\u001b[38;5;34m0\u001b[0m][\u001b[38;5;34m0\u001b[0m]       │\n",
              "├───────────────────────────┼────────────────────────┼────────────────┼────────────────────────┤\n",
              "│ max_pooling2d_72          │ (\u001b[38;5;45mNone\u001b[0m, \u001b[38;5;34m128\u001b[0m, \u001b[38;5;34m128\u001b[0m, \u001b[38;5;34m64\u001b[0m)   │              \u001b[38;5;34m0\u001b[0m │ conv2d_343[\u001b[38;5;34m0\u001b[0m][\u001b[38;5;34m0\u001b[0m]       │\n",
              "│ (\u001b[38;5;33mMaxPooling2D\u001b[0m)            │                        │                │                        │\n",
              "├───────────────────────────┼────────────────────────┼────────────────┼────────────────────────┤\n",
              "│ conv2d_344 (\u001b[38;5;33mConv2D\u001b[0m)       │ (\u001b[38;5;45mNone\u001b[0m, \u001b[38;5;34m128\u001b[0m, \u001b[38;5;34m128\u001b[0m, \u001b[38;5;34m128\u001b[0m)  │         \u001b[38;5;34m73,856\u001b[0m │ max_pooling2d_72[\u001b[38;5;34m0\u001b[0m][\u001b[38;5;34m0\u001b[0m] │\n",
              "├───────────────────────────┼────────────────────────┼────────────────┼────────────────────────┤\n",
              "│ conv2d_345 (\u001b[38;5;33mConv2D\u001b[0m)       │ (\u001b[38;5;45mNone\u001b[0m, \u001b[38;5;34m128\u001b[0m, \u001b[38;5;34m128\u001b[0m, \u001b[38;5;34m128\u001b[0m)  │        \u001b[38;5;34m147,584\u001b[0m │ conv2d_344[\u001b[38;5;34m0\u001b[0m][\u001b[38;5;34m0\u001b[0m]       │\n",
              "├───────────────────────────┼────────────────────────┼────────────────┼────────────────────────┤\n",
              "│ max_pooling2d_73          │ (\u001b[38;5;45mNone\u001b[0m, \u001b[38;5;34m64\u001b[0m, \u001b[38;5;34m64\u001b[0m, \u001b[38;5;34m128\u001b[0m)    │              \u001b[38;5;34m0\u001b[0m │ conv2d_345[\u001b[38;5;34m0\u001b[0m][\u001b[38;5;34m0\u001b[0m]       │\n",
              "│ (\u001b[38;5;33mMaxPooling2D\u001b[0m)            │                        │                │                        │\n",
              "├───────────────────────────┼────────────────────────┼────────────────┼────────────────────────┤\n",
              "│ conv2d_346 (\u001b[38;5;33mConv2D\u001b[0m)       │ (\u001b[38;5;45mNone\u001b[0m, \u001b[38;5;34m64\u001b[0m, \u001b[38;5;34m64\u001b[0m, \u001b[38;5;34m256\u001b[0m)    │        \u001b[38;5;34m295,168\u001b[0m │ max_pooling2d_73[\u001b[38;5;34m0\u001b[0m][\u001b[38;5;34m0\u001b[0m] │\n",
              "├───────────────────────────┼────────────────────────┼────────────────┼────────────────────────┤\n",
              "│ conv2d_347 (\u001b[38;5;33mConv2D\u001b[0m)       │ (\u001b[38;5;45mNone\u001b[0m, \u001b[38;5;34m64\u001b[0m, \u001b[38;5;34m64\u001b[0m, \u001b[38;5;34m256\u001b[0m)    │        \u001b[38;5;34m590,080\u001b[0m │ conv2d_346[\u001b[38;5;34m0\u001b[0m][\u001b[38;5;34m0\u001b[0m]       │\n",
              "├───────────────────────────┼────────────────────────┼────────────────┼────────────────────────┤\n",
              "│ max_pooling2d_74          │ (\u001b[38;5;45mNone\u001b[0m, \u001b[38;5;34m32\u001b[0m, \u001b[38;5;34m32\u001b[0m, \u001b[38;5;34m256\u001b[0m)    │              \u001b[38;5;34m0\u001b[0m │ conv2d_347[\u001b[38;5;34m0\u001b[0m][\u001b[38;5;34m0\u001b[0m]       │\n",
              "│ (\u001b[38;5;33mMaxPooling2D\u001b[0m)            │                        │                │                        │\n",
              "├───────────────────────────┼────────────────────────┼────────────────┼────────────────────────┤\n",
              "│ conv2d_348 (\u001b[38;5;33mConv2D\u001b[0m)       │ (\u001b[38;5;45mNone\u001b[0m, \u001b[38;5;34m32\u001b[0m, \u001b[38;5;34m32\u001b[0m, \u001b[38;5;34m512\u001b[0m)    │      \u001b[38;5;34m1,180,160\u001b[0m │ max_pooling2d_74[\u001b[38;5;34m0\u001b[0m][\u001b[38;5;34m0\u001b[0m] │\n",
              "├───────────────────────────┼────────────────────────┼────────────────┼────────────────────────┤\n",
              "│ conv2d_349 (\u001b[38;5;33mConv2D\u001b[0m)       │ (\u001b[38;5;45mNone\u001b[0m, \u001b[38;5;34m32\u001b[0m, \u001b[38;5;34m32\u001b[0m, \u001b[38;5;34m512\u001b[0m)    │      \u001b[38;5;34m2,359,808\u001b[0m │ conv2d_348[\u001b[38;5;34m0\u001b[0m][\u001b[38;5;34m0\u001b[0m]       │\n",
              "├───────────────────────────┼────────────────────────┼────────────────┼────────────────────────┤\n",
              "│ max_pooling2d_75          │ (\u001b[38;5;45mNone\u001b[0m, \u001b[38;5;34m16\u001b[0m, \u001b[38;5;34m16\u001b[0m, \u001b[38;5;34m512\u001b[0m)    │              \u001b[38;5;34m0\u001b[0m │ conv2d_349[\u001b[38;5;34m0\u001b[0m][\u001b[38;5;34m0\u001b[0m]       │\n",
              "│ (\u001b[38;5;33mMaxPooling2D\u001b[0m)            │                        │                │                        │\n",
              "├───────────────────────────┼────────────────────────┼────────────────┼────────────────────────┤\n",
              "│ conv2d_350 (\u001b[38;5;33mConv2D\u001b[0m)       │ (\u001b[38;5;45mNone\u001b[0m, \u001b[38;5;34m16\u001b[0m, \u001b[38;5;34m16\u001b[0m, \u001b[38;5;34m1024\u001b[0m)   │      \u001b[38;5;34m4,719,616\u001b[0m │ max_pooling2d_75[\u001b[38;5;34m0\u001b[0m][\u001b[38;5;34m0\u001b[0m] │\n",
              "├───────────────────────────┼────────────────────────┼────────────────┼────────────────────────┤\n",
              "│ conv2d_351 (\u001b[38;5;33mConv2D\u001b[0m)       │ (\u001b[38;5;45mNone\u001b[0m, \u001b[38;5;34m16\u001b[0m, \u001b[38;5;34m16\u001b[0m, \u001b[38;5;34m1024\u001b[0m)   │      \u001b[38;5;34m9,438,208\u001b[0m │ conv2d_350[\u001b[38;5;34m0\u001b[0m][\u001b[38;5;34m0\u001b[0m]       │\n",
              "├───────────────────────────┼────────────────────────┼────────────────┼────────────────────────┤\n",
              "│ conv2d_transpose_72       │ (\u001b[38;5;45mNone\u001b[0m, \u001b[38;5;34m32\u001b[0m, \u001b[38;5;34m32\u001b[0m, \u001b[38;5;34m512\u001b[0m)    │      \u001b[38;5;34m2,097,664\u001b[0m │ conv2d_351[\u001b[38;5;34m0\u001b[0m][\u001b[38;5;34m0\u001b[0m]       │\n",
              "│ (\u001b[38;5;33mConv2DTranspose\u001b[0m)         │                        │                │                        │\n",
              "├───────────────────────────┼────────────────────────┼────────────────┼────────────────────────┤\n",
              "│ concatenate_72            │ (\u001b[38;5;45mNone\u001b[0m, \u001b[38;5;34m32\u001b[0m, \u001b[38;5;34m32\u001b[0m, \u001b[38;5;34m1024\u001b[0m)   │              \u001b[38;5;34m0\u001b[0m │ conv2d_transpose_72[\u001b[38;5;34m0\u001b[0m… │\n",
              "│ (\u001b[38;5;33mConcatenate\u001b[0m)             │                        │                │ conv2d_349[\u001b[38;5;34m0\u001b[0m][\u001b[38;5;34m0\u001b[0m]       │\n",
              "├───────────────────────────┼────────────────────────┼────────────────┼────────────────────────┤\n",
              "│ conv2d_352 (\u001b[38;5;33mConv2D\u001b[0m)       │ (\u001b[38;5;45mNone\u001b[0m, \u001b[38;5;34m32\u001b[0m, \u001b[38;5;34m32\u001b[0m, \u001b[38;5;34m512\u001b[0m)    │      \u001b[38;5;34m4,719,104\u001b[0m │ concatenate_72[\u001b[38;5;34m0\u001b[0m][\u001b[38;5;34m0\u001b[0m]   │\n",
              "├───────────────────────────┼────────────────────────┼────────────────┼────────────────────────┤\n",
              "│ conv2d_353 (\u001b[38;5;33mConv2D\u001b[0m)       │ (\u001b[38;5;45mNone\u001b[0m, \u001b[38;5;34m32\u001b[0m, \u001b[38;5;34m32\u001b[0m, \u001b[38;5;34m512\u001b[0m)    │      \u001b[38;5;34m2,359,808\u001b[0m │ conv2d_352[\u001b[38;5;34m0\u001b[0m][\u001b[38;5;34m0\u001b[0m]       │\n",
              "├───────────────────────────┼────────────────────────┼────────────────┼────────────────────────┤\n",
              "│ conv2d_transpose_73       │ (\u001b[38;5;45mNone\u001b[0m, \u001b[38;5;34m64\u001b[0m, \u001b[38;5;34m64\u001b[0m, \u001b[38;5;34m256\u001b[0m)    │        \u001b[38;5;34m524,544\u001b[0m │ conv2d_353[\u001b[38;5;34m0\u001b[0m][\u001b[38;5;34m0\u001b[0m]       │\n",
              "│ (\u001b[38;5;33mConv2DTranspose\u001b[0m)         │                        │                │                        │\n",
              "├───────────────────────────┼────────────────────────┼────────────────┼────────────────────────┤\n",
              "│ concatenate_73            │ (\u001b[38;5;45mNone\u001b[0m, \u001b[38;5;34m64\u001b[0m, \u001b[38;5;34m64\u001b[0m, \u001b[38;5;34m512\u001b[0m)    │              \u001b[38;5;34m0\u001b[0m │ conv2d_transpose_73[\u001b[38;5;34m0\u001b[0m… │\n",
              "│ (\u001b[38;5;33mConcatenate\u001b[0m)             │                        │                │ conv2d_347[\u001b[38;5;34m0\u001b[0m][\u001b[38;5;34m0\u001b[0m]       │\n",
              "├───────────────────────────┼────────────────────────┼────────────────┼────────────────────────┤\n",
              "│ conv2d_354 (\u001b[38;5;33mConv2D\u001b[0m)       │ (\u001b[38;5;45mNone\u001b[0m, \u001b[38;5;34m64\u001b[0m, \u001b[38;5;34m64\u001b[0m, \u001b[38;5;34m256\u001b[0m)    │      \u001b[38;5;34m1,179,904\u001b[0m │ concatenate_73[\u001b[38;5;34m0\u001b[0m][\u001b[38;5;34m0\u001b[0m]   │\n",
              "├───────────────────────────┼────────────────────────┼────────────────┼────────────────────────┤\n",
              "│ conv2d_355 (\u001b[38;5;33mConv2D\u001b[0m)       │ (\u001b[38;5;45mNone\u001b[0m, \u001b[38;5;34m64\u001b[0m, \u001b[38;5;34m64\u001b[0m, \u001b[38;5;34m256\u001b[0m)    │        \u001b[38;5;34m590,080\u001b[0m │ conv2d_354[\u001b[38;5;34m0\u001b[0m][\u001b[38;5;34m0\u001b[0m]       │\n",
              "├───────────────────────────┼────────────────────────┼────────────────┼────────────────────────┤\n",
              "│ conv2d_transpose_74       │ (\u001b[38;5;45mNone\u001b[0m, \u001b[38;5;34m128\u001b[0m, \u001b[38;5;34m128\u001b[0m, \u001b[38;5;34m128\u001b[0m)  │        \u001b[38;5;34m131,200\u001b[0m │ conv2d_355[\u001b[38;5;34m0\u001b[0m][\u001b[38;5;34m0\u001b[0m]       │\n",
              "│ (\u001b[38;5;33mConv2DTranspose\u001b[0m)         │                        │                │                        │\n",
              "├───────────────────────────┼────────────────────────┼────────────────┼────────────────────────┤\n",
              "│ concatenate_74            │ (\u001b[38;5;45mNone\u001b[0m, \u001b[38;5;34m128\u001b[0m, \u001b[38;5;34m128\u001b[0m, \u001b[38;5;34m256\u001b[0m)  │              \u001b[38;5;34m0\u001b[0m │ conv2d_transpose_74[\u001b[38;5;34m0\u001b[0m… │\n",
              "│ (\u001b[38;5;33mConcatenate\u001b[0m)             │                        │                │ conv2d_345[\u001b[38;5;34m0\u001b[0m][\u001b[38;5;34m0\u001b[0m]       │\n",
              "├───────────────────────────┼────────────────────────┼────────────────┼────────────────────────┤\n",
              "│ conv2d_356 (\u001b[38;5;33mConv2D\u001b[0m)       │ (\u001b[38;5;45mNone\u001b[0m, \u001b[38;5;34m128\u001b[0m, \u001b[38;5;34m128\u001b[0m, \u001b[38;5;34m128\u001b[0m)  │        \u001b[38;5;34m295,040\u001b[0m │ concatenate_74[\u001b[38;5;34m0\u001b[0m][\u001b[38;5;34m0\u001b[0m]   │\n",
              "├───────────────────────────┼────────────────────────┼────────────────┼────────────────────────┤\n",
              "│ conv2d_357 (\u001b[38;5;33mConv2D\u001b[0m)       │ (\u001b[38;5;45mNone\u001b[0m, \u001b[38;5;34m128\u001b[0m, \u001b[38;5;34m128\u001b[0m, \u001b[38;5;34m128\u001b[0m)  │        \u001b[38;5;34m147,584\u001b[0m │ conv2d_356[\u001b[38;5;34m0\u001b[0m][\u001b[38;5;34m0\u001b[0m]       │\n",
              "├───────────────────────────┼────────────────────────┼────────────────┼────────────────────────┤\n",
              "│ conv2d_transpose_75       │ (\u001b[38;5;45mNone\u001b[0m, \u001b[38;5;34m256\u001b[0m, \u001b[38;5;34m256\u001b[0m, \u001b[38;5;34m64\u001b[0m)   │         \u001b[38;5;34m32,832\u001b[0m │ conv2d_357[\u001b[38;5;34m0\u001b[0m][\u001b[38;5;34m0\u001b[0m]       │\n",
              "│ (\u001b[38;5;33mConv2DTranspose\u001b[0m)         │                        │                │                        │\n",
              "├───────────────────────────┼────────────────────────┼────────────────┼────────────────────────┤\n",
              "│ concatenate_75            │ (\u001b[38;5;45mNone\u001b[0m, \u001b[38;5;34m256\u001b[0m, \u001b[38;5;34m256\u001b[0m, \u001b[38;5;34m128\u001b[0m)  │              \u001b[38;5;34m0\u001b[0m │ conv2d_transpose_75[\u001b[38;5;34m0\u001b[0m… │\n",
              "│ (\u001b[38;5;33mConcatenate\u001b[0m)             │                        │                │ conv2d_343[\u001b[38;5;34m0\u001b[0m][\u001b[38;5;34m0\u001b[0m]       │\n",
              "├───────────────────────────┼────────────────────────┼────────────────┼────────────────────────┤\n",
              "│ conv2d_358 (\u001b[38;5;33mConv2D\u001b[0m)       │ (\u001b[38;5;45mNone\u001b[0m, \u001b[38;5;34m256\u001b[0m, \u001b[38;5;34m256\u001b[0m, \u001b[38;5;34m64\u001b[0m)   │         \u001b[38;5;34m73,792\u001b[0m │ concatenate_75[\u001b[38;5;34m0\u001b[0m][\u001b[38;5;34m0\u001b[0m]   │\n",
              "├───────────────────────────┼────────────────────────┼────────────────┼────────────────────────┤\n",
              "│ conv2d_359 (\u001b[38;5;33mConv2D\u001b[0m)       │ (\u001b[38;5;45mNone\u001b[0m, \u001b[38;5;34m256\u001b[0m, \u001b[38;5;34m256\u001b[0m, \u001b[38;5;34m64\u001b[0m)   │         \u001b[38;5;34m36,928\u001b[0m │ conv2d_358[\u001b[38;5;34m0\u001b[0m][\u001b[38;5;34m0\u001b[0m]       │\n",
              "├───────────────────────────┼────────────────────────┼────────────────┼────────────────────────┤\n",
              "│ conv2d_360 (\u001b[38;5;33mConv2D\u001b[0m)       │ (\u001b[38;5;45mNone\u001b[0m, \u001b[38;5;34m256\u001b[0m, \u001b[38;5;34m256\u001b[0m, \u001b[38;5;34m9\u001b[0m)    │            \u001b[38;5;34m585\u001b[0m │ conv2d_359[\u001b[38;5;34m0\u001b[0m][\u001b[38;5;34m0\u001b[0m]       │\n",
              "└───────────────────────────┴────────────────────────┴────────────────┴────────────────────────┘\n"
            ],
            "text/html": [
              "<pre style=\"white-space:pre;overflow-x:auto;line-height:normal;font-family:Menlo,'DejaVu Sans Mono',consolas,'Courier New',monospace\">┏━━━━━━━━━━━━━━━━━━━━━━━━━━━┳━━━━━━━━━━━━━━━━━━━━━━━━┳━━━━━━━━━━━━━━━━┳━━━━━━━━━━━━━━━━━━━━━━━━┓\n",
              "┃<span style=\"font-weight: bold\"> Layer (type)              </span>┃<span style=\"font-weight: bold\"> Output Shape           </span>┃<span style=\"font-weight: bold\">        Param # </span>┃<span style=\"font-weight: bold\"> Connected to           </span>┃\n",
              "┡━━━━━━━━━━━━━━━━━━━━━━━━━━━╇━━━━━━━━━━━━━━━━━━━━━━━━╇━━━━━━━━━━━━━━━━╇━━━━━━━━━━━━━━━━━━━━━━━━┩\n",
              "│ input_layer_18            │ (<span style=\"color: #00d7ff; text-decoration-color: #00d7ff\">None</span>, <span style=\"color: #00af00; text-decoration-color: #00af00\">256</span>, <span style=\"color: #00af00; text-decoration-color: #00af00\">256</span>, <span style=\"color: #00af00; text-decoration-color: #00af00\">3</span>)    │              <span style=\"color: #00af00; text-decoration-color: #00af00\">0</span> │ -                      │\n",
              "│ (<span style=\"color: #0087ff; text-decoration-color: #0087ff\">InputLayer</span>)              │                        │                │                        │\n",
              "├───────────────────────────┼────────────────────────┼────────────────┼────────────────────────┤\n",
              "│ conv2d_342 (<span style=\"color: #0087ff; text-decoration-color: #0087ff\">Conv2D</span>)       │ (<span style=\"color: #00d7ff; text-decoration-color: #00d7ff\">None</span>, <span style=\"color: #00af00; text-decoration-color: #00af00\">256</span>, <span style=\"color: #00af00; text-decoration-color: #00af00\">256</span>, <span style=\"color: #00af00; text-decoration-color: #00af00\">64</span>)   │          <span style=\"color: #00af00; text-decoration-color: #00af00\">1,792</span> │ input_layer_18[<span style=\"color: #00af00; text-decoration-color: #00af00\">0</span>][<span style=\"color: #00af00; text-decoration-color: #00af00\">0</span>]   │\n",
              "├───────────────────────────┼────────────────────────┼────────────────┼────────────────────────┤\n",
              "│ conv2d_343 (<span style=\"color: #0087ff; text-decoration-color: #0087ff\">Conv2D</span>)       │ (<span style=\"color: #00d7ff; text-decoration-color: #00d7ff\">None</span>, <span style=\"color: #00af00; text-decoration-color: #00af00\">256</span>, <span style=\"color: #00af00; text-decoration-color: #00af00\">256</span>, <span style=\"color: #00af00; text-decoration-color: #00af00\">64</span>)   │         <span style=\"color: #00af00; text-decoration-color: #00af00\">36,928</span> │ conv2d_342[<span style=\"color: #00af00; text-decoration-color: #00af00\">0</span>][<span style=\"color: #00af00; text-decoration-color: #00af00\">0</span>]       │\n",
              "├───────────────────────────┼────────────────────────┼────────────────┼────────────────────────┤\n",
              "│ max_pooling2d_72          │ (<span style=\"color: #00d7ff; text-decoration-color: #00d7ff\">None</span>, <span style=\"color: #00af00; text-decoration-color: #00af00\">128</span>, <span style=\"color: #00af00; text-decoration-color: #00af00\">128</span>, <span style=\"color: #00af00; text-decoration-color: #00af00\">64</span>)   │              <span style=\"color: #00af00; text-decoration-color: #00af00\">0</span> │ conv2d_343[<span style=\"color: #00af00; text-decoration-color: #00af00\">0</span>][<span style=\"color: #00af00; text-decoration-color: #00af00\">0</span>]       │\n",
              "│ (<span style=\"color: #0087ff; text-decoration-color: #0087ff\">MaxPooling2D</span>)            │                        │                │                        │\n",
              "├───────────────────────────┼────────────────────────┼────────────────┼────────────────────────┤\n",
              "│ conv2d_344 (<span style=\"color: #0087ff; text-decoration-color: #0087ff\">Conv2D</span>)       │ (<span style=\"color: #00d7ff; text-decoration-color: #00d7ff\">None</span>, <span style=\"color: #00af00; text-decoration-color: #00af00\">128</span>, <span style=\"color: #00af00; text-decoration-color: #00af00\">128</span>, <span style=\"color: #00af00; text-decoration-color: #00af00\">128</span>)  │         <span style=\"color: #00af00; text-decoration-color: #00af00\">73,856</span> │ max_pooling2d_72[<span style=\"color: #00af00; text-decoration-color: #00af00\">0</span>][<span style=\"color: #00af00; text-decoration-color: #00af00\">0</span>] │\n",
              "├───────────────────────────┼────────────────────────┼────────────────┼────────────────────────┤\n",
              "│ conv2d_345 (<span style=\"color: #0087ff; text-decoration-color: #0087ff\">Conv2D</span>)       │ (<span style=\"color: #00d7ff; text-decoration-color: #00d7ff\">None</span>, <span style=\"color: #00af00; text-decoration-color: #00af00\">128</span>, <span style=\"color: #00af00; text-decoration-color: #00af00\">128</span>, <span style=\"color: #00af00; text-decoration-color: #00af00\">128</span>)  │        <span style=\"color: #00af00; text-decoration-color: #00af00\">147,584</span> │ conv2d_344[<span style=\"color: #00af00; text-decoration-color: #00af00\">0</span>][<span style=\"color: #00af00; text-decoration-color: #00af00\">0</span>]       │\n",
              "├───────────────────────────┼────────────────────────┼────────────────┼────────────────────────┤\n",
              "│ max_pooling2d_73          │ (<span style=\"color: #00d7ff; text-decoration-color: #00d7ff\">None</span>, <span style=\"color: #00af00; text-decoration-color: #00af00\">64</span>, <span style=\"color: #00af00; text-decoration-color: #00af00\">64</span>, <span style=\"color: #00af00; text-decoration-color: #00af00\">128</span>)    │              <span style=\"color: #00af00; text-decoration-color: #00af00\">0</span> │ conv2d_345[<span style=\"color: #00af00; text-decoration-color: #00af00\">0</span>][<span style=\"color: #00af00; text-decoration-color: #00af00\">0</span>]       │\n",
              "│ (<span style=\"color: #0087ff; text-decoration-color: #0087ff\">MaxPooling2D</span>)            │                        │                │                        │\n",
              "├───────────────────────────┼────────────────────────┼────────────────┼────────────────────────┤\n",
              "│ conv2d_346 (<span style=\"color: #0087ff; text-decoration-color: #0087ff\">Conv2D</span>)       │ (<span style=\"color: #00d7ff; text-decoration-color: #00d7ff\">None</span>, <span style=\"color: #00af00; text-decoration-color: #00af00\">64</span>, <span style=\"color: #00af00; text-decoration-color: #00af00\">64</span>, <span style=\"color: #00af00; text-decoration-color: #00af00\">256</span>)    │        <span style=\"color: #00af00; text-decoration-color: #00af00\">295,168</span> │ max_pooling2d_73[<span style=\"color: #00af00; text-decoration-color: #00af00\">0</span>][<span style=\"color: #00af00; text-decoration-color: #00af00\">0</span>] │\n",
              "├───────────────────────────┼────────────────────────┼────────────────┼────────────────────────┤\n",
              "│ conv2d_347 (<span style=\"color: #0087ff; text-decoration-color: #0087ff\">Conv2D</span>)       │ (<span style=\"color: #00d7ff; text-decoration-color: #00d7ff\">None</span>, <span style=\"color: #00af00; text-decoration-color: #00af00\">64</span>, <span style=\"color: #00af00; text-decoration-color: #00af00\">64</span>, <span style=\"color: #00af00; text-decoration-color: #00af00\">256</span>)    │        <span style=\"color: #00af00; text-decoration-color: #00af00\">590,080</span> │ conv2d_346[<span style=\"color: #00af00; text-decoration-color: #00af00\">0</span>][<span style=\"color: #00af00; text-decoration-color: #00af00\">0</span>]       │\n",
              "├───────────────────────────┼────────────────────────┼────────────────┼────────────────────────┤\n",
              "│ max_pooling2d_74          │ (<span style=\"color: #00d7ff; text-decoration-color: #00d7ff\">None</span>, <span style=\"color: #00af00; text-decoration-color: #00af00\">32</span>, <span style=\"color: #00af00; text-decoration-color: #00af00\">32</span>, <span style=\"color: #00af00; text-decoration-color: #00af00\">256</span>)    │              <span style=\"color: #00af00; text-decoration-color: #00af00\">0</span> │ conv2d_347[<span style=\"color: #00af00; text-decoration-color: #00af00\">0</span>][<span style=\"color: #00af00; text-decoration-color: #00af00\">0</span>]       │\n",
              "│ (<span style=\"color: #0087ff; text-decoration-color: #0087ff\">MaxPooling2D</span>)            │                        │                │                        │\n",
              "├───────────────────────────┼────────────────────────┼────────────────┼────────────────────────┤\n",
              "│ conv2d_348 (<span style=\"color: #0087ff; text-decoration-color: #0087ff\">Conv2D</span>)       │ (<span style=\"color: #00d7ff; text-decoration-color: #00d7ff\">None</span>, <span style=\"color: #00af00; text-decoration-color: #00af00\">32</span>, <span style=\"color: #00af00; text-decoration-color: #00af00\">32</span>, <span style=\"color: #00af00; text-decoration-color: #00af00\">512</span>)    │      <span style=\"color: #00af00; text-decoration-color: #00af00\">1,180,160</span> │ max_pooling2d_74[<span style=\"color: #00af00; text-decoration-color: #00af00\">0</span>][<span style=\"color: #00af00; text-decoration-color: #00af00\">0</span>] │\n",
              "├───────────────────────────┼────────────────────────┼────────────────┼────────────────────────┤\n",
              "│ conv2d_349 (<span style=\"color: #0087ff; text-decoration-color: #0087ff\">Conv2D</span>)       │ (<span style=\"color: #00d7ff; text-decoration-color: #00d7ff\">None</span>, <span style=\"color: #00af00; text-decoration-color: #00af00\">32</span>, <span style=\"color: #00af00; text-decoration-color: #00af00\">32</span>, <span style=\"color: #00af00; text-decoration-color: #00af00\">512</span>)    │      <span style=\"color: #00af00; text-decoration-color: #00af00\">2,359,808</span> │ conv2d_348[<span style=\"color: #00af00; text-decoration-color: #00af00\">0</span>][<span style=\"color: #00af00; text-decoration-color: #00af00\">0</span>]       │\n",
              "├───────────────────────────┼────────────────────────┼────────────────┼────────────────────────┤\n",
              "│ max_pooling2d_75          │ (<span style=\"color: #00d7ff; text-decoration-color: #00d7ff\">None</span>, <span style=\"color: #00af00; text-decoration-color: #00af00\">16</span>, <span style=\"color: #00af00; text-decoration-color: #00af00\">16</span>, <span style=\"color: #00af00; text-decoration-color: #00af00\">512</span>)    │              <span style=\"color: #00af00; text-decoration-color: #00af00\">0</span> │ conv2d_349[<span style=\"color: #00af00; text-decoration-color: #00af00\">0</span>][<span style=\"color: #00af00; text-decoration-color: #00af00\">0</span>]       │\n",
              "│ (<span style=\"color: #0087ff; text-decoration-color: #0087ff\">MaxPooling2D</span>)            │                        │                │                        │\n",
              "├───────────────────────────┼────────────────────────┼────────────────┼────────────────────────┤\n",
              "│ conv2d_350 (<span style=\"color: #0087ff; text-decoration-color: #0087ff\">Conv2D</span>)       │ (<span style=\"color: #00d7ff; text-decoration-color: #00d7ff\">None</span>, <span style=\"color: #00af00; text-decoration-color: #00af00\">16</span>, <span style=\"color: #00af00; text-decoration-color: #00af00\">16</span>, <span style=\"color: #00af00; text-decoration-color: #00af00\">1024</span>)   │      <span style=\"color: #00af00; text-decoration-color: #00af00\">4,719,616</span> │ max_pooling2d_75[<span style=\"color: #00af00; text-decoration-color: #00af00\">0</span>][<span style=\"color: #00af00; text-decoration-color: #00af00\">0</span>] │\n",
              "├───────────────────────────┼────────────────────────┼────────────────┼────────────────────────┤\n",
              "│ conv2d_351 (<span style=\"color: #0087ff; text-decoration-color: #0087ff\">Conv2D</span>)       │ (<span style=\"color: #00d7ff; text-decoration-color: #00d7ff\">None</span>, <span style=\"color: #00af00; text-decoration-color: #00af00\">16</span>, <span style=\"color: #00af00; text-decoration-color: #00af00\">16</span>, <span style=\"color: #00af00; text-decoration-color: #00af00\">1024</span>)   │      <span style=\"color: #00af00; text-decoration-color: #00af00\">9,438,208</span> │ conv2d_350[<span style=\"color: #00af00; text-decoration-color: #00af00\">0</span>][<span style=\"color: #00af00; text-decoration-color: #00af00\">0</span>]       │\n",
              "├───────────────────────────┼────────────────────────┼────────────────┼────────────────────────┤\n",
              "│ conv2d_transpose_72       │ (<span style=\"color: #00d7ff; text-decoration-color: #00d7ff\">None</span>, <span style=\"color: #00af00; text-decoration-color: #00af00\">32</span>, <span style=\"color: #00af00; text-decoration-color: #00af00\">32</span>, <span style=\"color: #00af00; text-decoration-color: #00af00\">512</span>)    │      <span style=\"color: #00af00; text-decoration-color: #00af00\">2,097,664</span> │ conv2d_351[<span style=\"color: #00af00; text-decoration-color: #00af00\">0</span>][<span style=\"color: #00af00; text-decoration-color: #00af00\">0</span>]       │\n",
              "│ (<span style=\"color: #0087ff; text-decoration-color: #0087ff\">Conv2DTranspose</span>)         │                        │                │                        │\n",
              "├───────────────────────────┼────────────────────────┼────────────────┼────────────────────────┤\n",
              "│ concatenate_72            │ (<span style=\"color: #00d7ff; text-decoration-color: #00d7ff\">None</span>, <span style=\"color: #00af00; text-decoration-color: #00af00\">32</span>, <span style=\"color: #00af00; text-decoration-color: #00af00\">32</span>, <span style=\"color: #00af00; text-decoration-color: #00af00\">1024</span>)   │              <span style=\"color: #00af00; text-decoration-color: #00af00\">0</span> │ conv2d_transpose_72[<span style=\"color: #00af00; text-decoration-color: #00af00\">0</span>… │\n",
              "│ (<span style=\"color: #0087ff; text-decoration-color: #0087ff\">Concatenate</span>)             │                        │                │ conv2d_349[<span style=\"color: #00af00; text-decoration-color: #00af00\">0</span>][<span style=\"color: #00af00; text-decoration-color: #00af00\">0</span>]       │\n",
              "├───────────────────────────┼────────────────────────┼────────────────┼────────────────────────┤\n",
              "│ conv2d_352 (<span style=\"color: #0087ff; text-decoration-color: #0087ff\">Conv2D</span>)       │ (<span style=\"color: #00d7ff; text-decoration-color: #00d7ff\">None</span>, <span style=\"color: #00af00; text-decoration-color: #00af00\">32</span>, <span style=\"color: #00af00; text-decoration-color: #00af00\">32</span>, <span style=\"color: #00af00; text-decoration-color: #00af00\">512</span>)    │      <span style=\"color: #00af00; text-decoration-color: #00af00\">4,719,104</span> │ concatenate_72[<span style=\"color: #00af00; text-decoration-color: #00af00\">0</span>][<span style=\"color: #00af00; text-decoration-color: #00af00\">0</span>]   │\n",
              "├───────────────────────────┼────────────────────────┼────────────────┼────────────────────────┤\n",
              "│ conv2d_353 (<span style=\"color: #0087ff; text-decoration-color: #0087ff\">Conv2D</span>)       │ (<span style=\"color: #00d7ff; text-decoration-color: #00d7ff\">None</span>, <span style=\"color: #00af00; text-decoration-color: #00af00\">32</span>, <span style=\"color: #00af00; text-decoration-color: #00af00\">32</span>, <span style=\"color: #00af00; text-decoration-color: #00af00\">512</span>)    │      <span style=\"color: #00af00; text-decoration-color: #00af00\">2,359,808</span> │ conv2d_352[<span style=\"color: #00af00; text-decoration-color: #00af00\">0</span>][<span style=\"color: #00af00; text-decoration-color: #00af00\">0</span>]       │\n",
              "├───────────────────────────┼────────────────────────┼────────────────┼────────────────────────┤\n",
              "│ conv2d_transpose_73       │ (<span style=\"color: #00d7ff; text-decoration-color: #00d7ff\">None</span>, <span style=\"color: #00af00; text-decoration-color: #00af00\">64</span>, <span style=\"color: #00af00; text-decoration-color: #00af00\">64</span>, <span style=\"color: #00af00; text-decoration-color: #00af00\">256</span>)    │        <span style=\"color: #00af00; text-decoration-color: #00af00\">524,544</span> │ conv2d_353[<span style=\"color: #00af00; text-decoration-color: #00af00\">0</span>][<span style=\"color: #00af00; text-decoration-color: #00af00\">0</span>]       │\n",
              "│ (<span style=\"color: #0087ff; text-decoration-color: #0087ff\">Conv2DTranspose</span>)         │                        │                │                        │\n",
              "├───────────────────────────┼────────────────────────┼────────────────┼────────────────────────┤\n",
              "│ concatenate_73            │ (<span style=\"color: #00d7ff; text-decoration-color: #00d7ff\">None</span>, <span style=\"color: #00af00; text-decoration-color: #00af00\">64</span>, <span style=\"color: #00af00; text-decoration-color: #00af00\">64</span>, <span style=\"color: #00af00; text-decoration-color: #00af00\">512</span>)    │              <span style=\"color: #00af00; text-decoration-color: #00af00\">0</span> │ conv2d_transpose_73[<span style=\"color: #00af00; text-decoration-color: #00af00\">0</span>… │\n",
              "│ (<span style=\"color: #0087ff; text-decoration-color: #0087ff\">Concatenate</span>)             │                        │                │ conv2d_347[<span style=\"color: #00af00; text-decoration-color: #00af00\">0</span>][<span style=\"color: #00af00; text-decoration-color: #00af00\">0</span>]       │\n",
              "├───────────────────────────┼────────────────────────┼────────────────┼────────────────────────┤\n",
              "│ conv2d_354 (<span style=\"color: #0087ff; text-decoration-color: #0087ff\">Conv2D</span>)       │ (<span style=\"color: #00d7ff; text-decoration-color: #00d7ff\">None</span>, <span style=\"color: #00af00; text-decoration-color: #00af00\">64</span>, <span style=\"color: #00af00; text-decoration-color: #00af00\">64</span>, <span style=\"color: #00af00; text-decoration-color: #00af00\">256</span>)    │      <span style=\"color: #00af00; text-decoration-color: #00af00\">1,179,904</span> │ concatenate_73[<span style=\"color: #00af00; text-decoration-color: #00af00\">0</span>][<span style=\"color: #00af00; text-decoration-color: #00af00\">0</span>]   │\n",
              "├───────────────────────────┼────────────────────────┼────────────────┼────────────────────────┤\n",
              "│ conv2d_355 (<span style=\"color: #0087ff; text-decoration-color: #0087ff\">Conv2D</span>)       │ (<span style=\"color: #00d7ff; text-decoration-color: #00d7ff\">None</span>, <span style=\"color: #00af00; text-decoration-color: #00af00\">64</span>, <span style=\"color: #00af00; text-decoration-color: #00af00\">64</span>, <span style=\"color: #00af00; text-decoration-color: #00af00\">256</span>)    │        <span style=\"color: #00af00; text-decoration-color: #00af00\">590,080</span> │ conv2d_354[<span style=\"color: #00af00; text-decoration-color: #00af00\">0</span>][<span style=\"color: #00af00; text-decoration-color: #00af00\">0</span>]       │\n",
              "├───────────────────────────┼────────────────────────┼────────────────┼────────────────────────┤\n",
              "│ conv2d_transpose_74       │ (<span style=\"color: #00d7ff; text-decoration-color: #00d7ff\">None</span>, <span style=\"color: #00af00; text-decoration-color: #00af00\">128</span>, <span style=\"color: #00af00; text-decoration-color: #00af00\">128</span>, <span style=\"color: #00af00; text-decoration-color: #00af00\">128</span>)  │        <span style=\"color: #00af00; text-decoration-color: #00af00\">131,200</span> │ conv2d_355[<span style=\"color: #00af00; text-decoration-color: #00af00\">0</span>][<span style=\"color: #00af00; text-decoration-color: #00af00\">0</span>]       │\n",
              "│ (<span style=\"color: #0087ff; text-decoration-color: #0087ff\">Conv2DTranspose</span>)         │                        │                │                        │\n",
              "├───────────────────────────┼────────────────────────┼────────────────┼────────────────────────┤\n",
              "│ concatenate_74            │ (<span style=\"color: #00d7ff; text-decoration-color: #00d7ff\">None</span>, <span style=\"color: #00af00; text-decoration-color: #00af00\">128</span>, <span style=\"color: #00af00; text-decoration-color: #00af00\">128</span>, <span style=\"color: #00af00; text-decoration-color: #00af00\">256</span>)  │              <span style=\"color: #00af00; text-decoration-color: #00af00\">0</span> │ conv2d_transpose_74[<span style=\"color: #00af00; text-decoration-color: #00af00\">0</span>… │\n",
              "│ (<span style=\"color: #0087ff; text-decoration-color: #0087ff\">Concatenate</span>)             │                        │                │ conv2d_345[<span style=\"color: #00af00; text-decoration-color: #00af00\">0</span>][<span style=\"color: #00af00; text-decoration-color: #00af00\">0</span>]       │\n",
              "├───────────────────────────┼────────────────────────┼────────────────┼────────────────────────┤\n",
              "│ conv2d_356 (<span style=\"color: #0087ff; text-decoration-color: #0087ff\">Conv2D</span>)       │ (<span style=\"color: #00d7ff; text-decoration-color: #00d7ff\">None</span>, <span style=\"color: #00af00; text-decoration-color: #00af00\">128</span>, <span style=\"color: #00af00; text-decoration-color: #00af00\">128</span>, <span style=\"color: #00af00; text-decoration-color: #00af00\">128</span>)  │        <span style=\"color: #00af00; text-decoration-color: #00af00\">295,040</span> │ concatenate_74[<span style=\"color: #00af00; text-decoration-color: #00af00\">0</span>][<span style=\"color: #00af00; text-decoration-color: #00af00\">0</span>]   │\n",
              "├───────────────────────────┼────────────────────────┼────────────────┼────────────────────────┤\n",
              "│ conv2d_357 (<span style=\"color: #0087ff; text-decoration-color: #0087ff\">Conv2D</span>)       │ (<span style=\"color: #00d7ff; text-decoration-color: #00d7ff\">None</span>, <span style=\"color: #00af00; text-decoration-color: #00af00\">128</span>, <span style=\"color: #00af00; text-decoration-color: #00af00\">128</span>, <span style=\"color: #00af00; text-decoration-color: #00af00\">128</span>)  │        <span style=\"color: #00af00; text-decoration-color: #00af00\">147,584</span> │ conv2d_356[<span style=\"color: #00af00; text-decoration-color: #00af00\">0</span>][<span style=\"color: #00af00; text-decoration-color: #00af00\">0</span>]       │\n",
              "├───────────────────────────┼────────────────────────┼────────────────┼────────────────────────┤\n",
              "│ conv2d_transpose_75       │ (<span style=\"color: #00d7ff; text-decoration-color: #00d7ff\">None</span>, <span style=\"color: #00af00; text-decoration-color: #00af00\">256</span>, <span style=\"color: #00af00; text-decoration-color: #00af00\">256</span>, <span style=\"color: #00af00; text-decoration-color: #00af00\">64</span>)   │         <span style=\"color: #00af00; text-decoration-color: #00af00\">32,832</span> │ conv2d_357[<span style=\"color: #00af00; text-decoration-color: #00af00\">0</span>][<span style=\"color: #00af00; text-decoration-color: #00af00\">0</span>]       │\n",
              "│ (<span style=\"color: #0087ff; text-decoration-color: #0087ff\">Conv2DTranspose</span>)         │                        │                │                        │\n",
              "├───────────────────────────┼────────────────────────┼────────────────┼────────────────────────┤\n",
              "│ concatenate_75            │ (<span style=\"color: #00d7ff; text-decoration-color: #00d7ff\">None</span>, <span style=\"color: #00af00; text-decoration-color: #00af00\">256</span>, <span style=\"color: #00af00; text-decoration-color: #00af00\">256</span>, <span style=\"color: #00af00; text-decoration-color: #00af00\">128</span>)  │              <span style=\"color: #00af00; text-decoration-color: #00af00\">0</span> │ conv2d_transpose_75[<span style=\"color: #00af00; text-decoration-color: #00af00\">0</span>… │\n",
              "│ (<span style=\"color: #0087ff; text-decoration-color: #0087ff\">Concatenate</span>)             │                        │                │ conv2d_343[<span style=\"color: #00af00; text-decoration-color: #00af00\">0</span>][<span style=\"color: #00af00; text-decoration-color: #00af00\">0</span>]       │\n",
              "├───────────────────────────┼────────────────────────┼────────────────┼────────────────────────┤\n",
              "│ conv2d_358 (<span style=\"color: #0087ff; text-decoration-color: #0087ff\">Conv2D</span>)       │ (<span style=\"color: #00d7ff; text-decoration-color: #00d7ff\">None</span>, <span style=\"color: #00af00; text-decoration-color: #00af00\">256</span>, <span style=\"color: #00af00; text-decoration-color: #00af00\">256</span>, <span style=\"color: #00af00; text-decoration-color: #00af00\">64</span>)   │         <span style=\"color: #00af00; text-decoration-color: #00af00\">73,792</span> │ concatenate_75[<span style=\"color: #00af00; text-decoration-color: #00af00\">0</span>][<span style=\"color: #00af00; text-decoration-color: #00af00\">0</span>]   │\n",
              "├───────────────────────────┼────────────────────────┼────────────────┼────────────────────────┤\n",
              "│ conv2d_359 (<span style=\"color: #0087ff; text-decoration-color: #0087ff\">Conv2D</span>)       │ (<span style=\"color: #00d7ff; text-decoration-color: #00d7ff\">None</span>, <span style=\"color: #00af00; text-decoration-color: #00af00\">256</span>, <span style=\"color: #00af00; text-decoration-color: #00af00\">256</span>, <span style=\"color: #00af00; text-decoration-color: #00af00\">64</span>)   │         <span style=\"color: #00af00; text-decoration-color: #00af00\">36,928</span> │ conv2d_358[<span style=\"color: #00af00; text-decoration-color: #00af00\">0</span>][<span style=\"color: #00af00; text-decoration-color: #00af00\">0</span>]       │\n",
              "├───────────────────────────┼────────────────────────┼────────────────┼────────────────────────┤\n",
              "│ conv2d_360 (<span style=\"color: #0087ff; text-decoration-color: #0087ff\">Conv2D</span>)       │ (<span style=\"color: #00d7ff; text-decoration-color: #00d7ff\">None</span>, <span style=\"color: #00af00; text-decoration-color: #00af00\">256</span>, <span style=\"color: #00af00; text-decoration-color: #00af00\">256</span>, <span style=\"color: #00af00; text-decoration-color: #00af00\">9</span>)    │            <span style=\"color: #00af00; text-decoration-color: #00af00\">585</span> │ conv2d_359[<span style=\"color: #00af00; text-decoration-color: #00af00\">0</span>][<span style=\"color: #00af00; text-decoration-color: #00af00\">0</span>]       │\n",
              "└───────────────────────────┴────────────────────────┴────────────────┴────────────────────────┘\n",
              "</pre>\n"
            ]
          },
          "metadata": {}
        },
        {
          "output_type": "display_data",
          "data": {
            "text/plain": [
              "\u001b[1m Total params: \u001b[0m\u001b[38;5;34m31,032,265\u001b[0m (118.38 MB)\n"
            ],
            "text/html": [
              "<pre style=\"white-space:pre;overflow-x:auto;line-height:normal;font-family:Menlo,'DejaVu Sans Mono',consolas,'Courier New',monospace\"><span style=\"font-weight: bold\"> Total params: </span><span style=\"color: #00af00; text-decoration-color: #00af00\">31,032,265</span> (118.38 MB)\n",
              "</pre>\n"
            ]
          },
          "metadata": {}
        },
        {
          "output_type": "display_data",
          "data": {
            "text/plain": [
              "\u001b[1m Trainable params: \u001b[0m\u001b[38;5;34m31,032,265\u001b[0m (118.38 MB)\n"
            ],
            "text/html": [
              "<pre style=\"white-space:pre;overflow-x:auto;line-height:normal;font-family:Menlo,'DejaVu Sans Mono',consolas,'Courier New',monospace\"><span style=\"font-weight: bold\"> Trainable params: </span><span style=\"color: #00af00; text-decoration-color: #00af00\">31,032,265</span> (118.38 MB)\n",
              "</pre>\n"
            ]
          },
          "metadata": {}
        },
        {
          "output_type": "display_data",
          "data": {
            "text/plain": [
              "\u001b[1m Non-trainable params: \u001b[0m\u001b[38;5;34m0\u001b[0m (0.00 B)\n"
            ],
            "text/html": [
              "<pre style=\"white-space:pre;overflow-x:auto;line-height:normal;font-family:Menlo,'DejaVu Sans Mono',consolas,'Courier New',monospace\"><span style=\"font-weight: bold\"> Non-trainable params: </span><span style=\"color: #00af00; text-decoration-color: #00af00\">0</span> (0.00 B)\n",
              "</pre>\n"
            ]
          },
          "metadata": {}
        }
      ],
      "source": [
        "def unet(input_shape, num_classes):\n",
        "    inputs = Input(input_shape)\n",
        "    # Encoder Block 1\n",
        "    conv1 = Conv2D(64, (3, 3), activation='relu', padding='same')(inputs)\n",
        "    conv1 = Conv2D(64, (3, 3), activation='relu', padding='same')(conv1)\n",
        "    pool1 = MaxPooling2D((2, 2))(conv1)\n",
        "    # Encoder Block 2\n",
        "    conv2 = Conv2D(128, (3, 3), activation='relu', padding='same')(pool1)\n",
        "    conv2 = Conv2D(128, (3, 3), activation='relu', padding='same')(conv2)\n",
        "    pool2 = MaxPooling2D((2, 2))(conv2)\n",
        "    # Encoder Block 3\n",
        "    conv3 = Conv2D(256, (3, 3), activation='relu', padding='same')(pool2)\n",
        "    conv3 = Conv2D(256, (3, 3), activation='relu', padding='same')(conv3)\n",
        "    pool3 = MaxPooling2D((2, 2))(conv3)\n",
        "    # Encoder Block 4\n",
        "    conv4 = Conv2D(512, (3, 3), activation='relu', padding='same')(pool3)\n",
        "    conv4 = Conv2D(512, (3, 3), activation='relu', padding='same')(conv4)\n",
        "    pool4 = MaxPooling2D((2, 2))(conv4)\n",
        "    # Bridge\n",
        "    bridge = Conv2D(1024, (3, 3), activation='relu', padding='same')(pool4)\n",
        "    bridge = Conv2D(1024, (3, 3), activation='relu', padding='same')(bridge)\n",
        "    # Decoder Block 1\n",
        "    up1 = Conv2DTranspose(512, (2, 2), strides=(2, 2), padding='same')(bridge)\n",
        "    concat1 = Concatenate()([up1, conv4])\n",
        "    conv5 = Conv2D(512, (3, 3), activation='relu', padding='same')(concat1)\n",
        "    conv5 = Conv2D(512, (3, 3), activation='relu', padding='same')(conv5)\n",
        "    # Decoder Block 2\n",
        "    up2 = Conv2DTranspose(256, (2, 2), strides=(2, 2), padding='same')(conv5)\n",
        "    concat2 = Concatenate()([up2, conv3])\n",
        "    conv6 = Conv2D(256, (3, 3), activation='relu', padding='same')(concat2)\n",
        "    conv6 = Conv2D(256, (3, 3), activation='relu', padding='same')(conv6)\n",
        "    # Decoder Block 3\n",
        "    up3 = Conv2DTranspose(128, (2, 2), strides=(2, 2), padding='same')(conv6)\n",
        "    concat3 = Concatenate()([up3, conv2])\n",
        "    conv7 = Conv2D(128, (3, 3), activation='relu', padding='same')(concat3)\n",
        "    conv7 = Conv2D(128, (3, 3), activation='relu', padding='same')(conv7)\n",
        "    # Decoder Block 4\n",
        "    up4 = Conv2DTranspose(64, (2, 2), strides=(2, 2), padding='same')(conv7)\n",
        "    concat4 = Concatenate()([up4, conv1])\n",
        "    conv8 = Conv2D(64, (3, 3), activation='relu', padding='same')(concat4)\n",
        "    conv8 = Conv2D(64, (3, 3), activation='relu', padding='same')(conv8)\n",
        "    # Output Layer\n",
        "    outputs = Conv2D(num_classes, (1, 1), activation='softmax')(conv8)\n",
        "    # Model\n",
        "    model = Model(inputs, outputs, name=\"U-Net\")\n",
        "    return model\n",
        "model = unet((256, 256, 3),9)\n",
        "model.summary()\n",
        "model.compile(optimizer='adam', loss=\"categorical_crossentropy\", metrics=['accuracy'])"
      ]
    },
    {
      "cell_type": "markdown",
      "id": "8f2aea25-1bf9-4d18-84cb-13316af733ce",
      "metadata": {
        "id": "8f2aea25-1bf9-4d18-84cb-13316af733ce"
      },
      "source": [
        "### Définition des X & y"
      ]
    },
    {
      "cell_type": "code",
      "execution_count": 100,
      "id": "789ea84e-03cd-4acd-8481-29bc68f71def",
      "metadata": {
        "id": "789ea84e-03cd-4acd-8481-29bc68f71def"
      },
      "outputs": [],
      "source": [
        "X_train = []\n",
        "y_train = []\n",
        "path_images = \"/content/drive/MyDrive/land-cover-mapping/Sandbox data/images/\"\n",
        "for path in os.listdir(path_images)[0:10]:\n",
        "    with rasterio.open(path_images + path) as src:\n",
        "        image_array = src.read()  # (nb_bands, height, width)\n",
        "        image_array = np.transpose(image_array, (1, 2, 0))\n",
        "        X_train.append(image_array)\n",
        "\n",
        "path_labels = \"/content/drive/MyDrive/land-cover-mapping/Sandbox data/labels/\"\n",
        "for path in os.listdir(path_labels)[0:10]:\n",
        "    with rasterio.open(path_labels + path) as src:\n",
        "        image_array = src.read()  # (nb_bands, height, width)\n",
        "        image_array = np.transpose(image_array, (1, 2, 0))\n",
        "        y_train.append(image_array)"
      ]
    },
    {
      "cell_type": "code",
      "execution_count": 101,
      "id": "c4fc7928-a6a5-4c36-be9c-8d8b1c5d7ac6",
      "metadata": {
        "scrolled": true,
        "id": "c4fc7928-a6a5-4c36-be9c-8d8b1c5d7ac6"
      },
      "outputs": [],
      "source": [
        "X_train = np.array(X_train)\n",
        "y_train = np.array(y_train)"
      ]
    },
    {
      "cell_type": "code",
      "execution_count": 102,
      "id": "318d4f7a-a32c-4847-9132-297e1b376ab2",
      "metadata": {
        "id": "318d4f7a-a32c-4847-9132-297e1b376ab2"
      },
      "outputs": [],
      "source": [
        "y_cat = to_categorical(y_train)"
      ]
    },
    {
      "cell_type": "code",
      "source": [
        "y_cat.shape"
      ],
      "metadata": {
        "colab": {
          "base_uri": "https://localhost:8080/"
        },
        "id": "IYhPyw7N0fd4",
        "outputId": "b82ef22e-3356-4ae5-ed1e-c67ae4f6b551"
      },
      "id": "IYhPyw7N0fd4",
      "execution_count": 103,
      "outputs": [
        {
          "output_type": "execute_result",
          "data": {
            "text/plain": [
              "(10, 256, 256, 9)"
            ]
          },
          "metadata": {},
          "execution_count": 103
        }
      ]
    },
    {
      "cell_type": "code",
      "execution_count": 104,
      "id": "f5fd201c-2dd1-43ec-b3af-e96d63293c41",
      "metadata": {
        "id": "f5fd201c-2dd1-43ec-b3af-e96d63293c41"
      },
      "outputs": [],
      "source": [
        "es = EarlyStopping(patience = 10, restore_best_weights = True)"
      ]
    },
    {
      "cell_type": "code",
      "execution_count": 105,
      "id": "24980792-cdc6-404a-b443-3594fe9d3452",
      "metadata": {
        "colab": {
          "base_uri": "https://localhost:8080/"
        },
        "id": "24980792-cdc6-404a-b443-3594fe9d3452",
        "outputId": "7eb8d4bc-803d-4688-c694-73094b800afe"
      },
      "outputs": [
        {
          "output_type": "stream",
          "name": "stdout",
          "text": [
            "Epoch 1/200\n",
            "\u001b[1m1/1\u001b[0m \u001b[32m━━━━━━━━━━━━━━━━━━━━\u001b[0m\u001b[37m\u001b[0m \u001b[1m11s\u001b[0m 11s/step - accuracy: 0.0226 - loss: 13.8753 - val_accuracy: 0.2968 - val_loss: 15.5963\n",
            "Epoch 2/200\n",
            "\u001b[1m1/1\u001b[0m \u001b[32m━━━━━━━━━━━━━━━━━━━━\u001b[0m\u001b[37m\u001b[0m \u001b[1m1s\u001b[0m 730ms/step - accuracy: 0.1289 - loss: 19.1472 - val_accuracy: 0.0522 - val_loss: 10.6186\n",
            "Epoch 3/200\n",
            "\u001b[1m1/1\u001b[0m \u001b[32m━━━━━━━━━━━━━━━━━━━━\u001b[0m\u001b[37m\u001b[0m \u001b[1m1s\u001b[0m 621ms/step - accuracy: 0.1790 - loss: 8.2801 - val_accuracy: 0.0269 - val_loss: 8.3352\n",
            "Epoch 4/200\n",
            "\u001b[1m1/1\u001b[0m \u001b[32m━━━━━━━━━━━━━━━━━━━━\u001b[0m\u001b[37m\u001b[0m \u001b[1m1s\u001b[0m 576ms/step - accuracy: 0.0440 - loss: 7.2227 - val_accuracy: 0.1292 - val_loss: 6.1038\n",
            "Epoch 5/200\n",
            "\u001b[1m1/1\u001b[0m \u001b[32m━━━━━━━━━━━━━━━━━━━━\u001b[0m\u001b[37m\u001b[0m \u001b[1m1s\u001b[0m 562ms/step - accuracy: 0.1873 - loss: 5.4066 - val_accuracy: 0.2566 - val_loss: 4.6313\n",
            "Epoch 6/200\n",
            "\u001b[1m1/1\u001b[0m \u001b[32m━━━━━━━━━━━━━━━━━━━━\u001b[0m\u001b[37m\u001b[0m \u001b[1m1s\u001b[0m 532ms/step - accuracy: 0.2262 - loss: 4.5283 - val_accuracy: 0.2038 - val_loss: 4.1712\n",
            "Epoch 7/200\n",
            "\u001b[1m1/1\u001b[0m \u001b[32m━━━━━━━━━━━━━━━━━━━━\u001b[0m\u001b[37m\u001b[0m \u001b[1m1s\u001b[0m 554ms/step - accuracy: 0.2016 - loss: 4.0759 - val_accuracy: 0.1228 - val_loss: 3.4593\n",
            "Epoch 8/200\n",
            "\u001b[1m1/1\u001b[0m \u001b[32m━━━━━━━━━━━━━━━━━━━━\u001b[0m\u001b[37m\u001b[0m \u001b[1m1s\u001b[0m 532ms/step - accuracy: 0.1500 - loss: 3.2141 - val_accuracy: 0.0781 - val_loss: 2.7228\n",
            "Epoch 9/200\n",
            "\u001b[1m1/1\u001b[0m \u001b[32m━━━━━━━━━━━━━━━━━━━━\u001b[0m\u001b[37m\u001b[0m \u001b[1m1s\u001b[0m 560ms/step - accuracy: 0.1238 - loss: 2.4931 - val_accuracy: 0.0953 - val_loss: 2.1444\n",
            "Epoch 10/200\n",
            "\u001b[1m1/1\u001b[0m \u001b[32m━━━━━━━━━━━━━━━━━━━━\u001b[0m\u001b[37m\u001b[0m \u001b[1m1s\u001b[0m 610ms/step - accuracy: 0.1434 - loss: 2.0295 - val_accuracy: 0.1953 - val_loss: 1.8899\n",
            "Epoch 11/200\n",
            "\u001b[1m1/1\u001b[0m \u001b[32m━━━━━━━━━━━━━━━━━━━━\u001b[0m\u001b[37m\u001b[0m \u001b[1m1s\u001b[0m 617ms/step - accuracy: 0.1706 - loss: 2.0780 - val_accuracy: 0.3483 - val_loss: 1.8172\n",
            "Epoch 12/200\n",
            "\u001b[1m1/1\u001b[0m \u001b[32m━━━━━━━━━━━━━━━━━━━━\u001b[0m\u001b[37m\u001b[0m \u001b[1m0s\u001b[0m 456ms/step - accuracy: 0.1522 - loss: 2.1904 - val_accuracy: 0.2296 - val_loss: 1.8484\n",
            "Epoch 13/200\n",
            "\u001b[1m1/1\u001b[0m \u001b[32m━━━━━━━━━━━━━━━━━━━━\u001b[0m\u001b[37m\u001b[0m \u001b[1m0s\u001b[0m 459ms/step - accuracy: 0.1818 - loss: 2.0129 - val_accuracy: 0.1271 - val_loss: 2.1131\n",
            "Epoch 14/200\n",
            "\u001b[1m1/1\u001b[0m \u001b[32m━━━━━━━━━━━━━━━━━━━━\u001b[0m\u001b[37m\u001b[0m \u001b[1m0s\u001b[0m 457ms/step - accuracy: 0.2048 - loss: 1.9791 - val_accuracy: 0.1508 - val_loss: 2.2232\n",
            "Epoch 15/200\n",
            "\u001b[1m1/1\u001b[0m \u001b[32m━━━━━━━━━━━━━━━━━━━━\u001b[0m\u001b[37m\u001b[0m \u001b[1m1s\u001b[0m 648ms/step - accuracy: 0.2062 - loss: 1.9814 - val_accuracy: 0.1925 - val_loss: 2.6478\n",
            "Epoch 16/200\n",
            "\u001b[1m1/1\u001b[0m \u001b[32m━━━━━━━━━━━━━━━━━━━━\u001b[0m\u001b[37m\u001b[0m \u001b[1m1s\u001b[0m 592ms/step - accuracy: 0.2104 - loss: 2.2572 - val_accuracy: 0.1924 - val_loss: 2.0506\n",
            "Epoch 17/200\n",
            "\u001b[1m1/1\u001b[0m \u001b[32m━━━━━━━━━━━━━━━━━━━━\u001b[0m\u001b[37m\u001b[0m \u001b[1m1s\u001b[0m 645ms/step - accuracy: 0.2272 - loss: 1.9126 - val_accuracy: 0.1939 - val_loss: 1.9265\n",
            "Epoch 18/200\n",
            "\u001b[1m1/1\u001b[0m \u001b[32m━━━━━━━━━━━━━━━━━━━━\u001b[0m\u001b[37m\u001b[0m \u001b[1m1s\u001b[0m 588ms/step - accuracy: 0.2310 - loss: 1.8791 - val_accuracy: 0.2073 - val_loss: 1.8298\n",
            "Epoch 19/200\n",
            "\u001b[1m1/1\u001b[0m \u001b[32m━━━━━━━━━━━━━━━━━━━━\u001b[0m\u001b[37m\u001b[0m \u001b[1m1s\u001b[0m 709ms/step - accuracy: 0.2357 - loss: 1.8615 - val_accuracy: 0.2448 - val_loss: 1.7727\n",
            "Epoch 20/200\n",
            "\u001b[1m1/1\u001b[0m \u001b[32m━━━━━━━━━━━━━━━━━━━━\u001b[0m\u001b[37m\u001b[0m \u001b[1m0s\u001b[0m 459ms/step - accuracy: 0.2337 - loss: 1.8627 - val_accuracy: 0.2308 - val_loss: 1.7943\n",
            "Epoch 21/200\n",
            "\u001b[1m1/1\u001b[0m \u001b[32m━━━━━━━━━━━━━━━━━━━━\u001b[0m\u001b[37m\u001b[0m \u001b[1m0s\u001b[0m 488ms/step - accuracy: 0.2294 - loss: 1.8558 - val_accuracy: 0.1956 - val_loss: 1.8327\n",
            "Epoch 22/200\n",
            "\u001b[1m1/1\u001b[0m \u001b[32m━━━━━━━━━━━━━━━━━━━━\u001b[0m\u001b[37m\u001b[0m \u001b[1m1s\u001b[0m 604ms/step - accuracy: 0.2292 - loss: 1.8544 - val_accuracy: 0.1647 - val_loss: 1.8659\n",
            "Epoch 23/200\n",
            "\u001b[1m1/1\u001b[0m \u001b[32m━━━━━━━━━━━━━━━━━━━━\u001b[0m\u001b[37m\u001b[0m \u001b[1m1s\u001b[0m 614ms/step - accuracy: 0.2311 - loss: 1.8503 - val_accuracy: 0.1616 - val_loss: 1.8803\n",
            "Epoch 24/200\n",
            "\u001b[1m1/1\u001b[0m \u001b[32m━━━━━━━━━━━━━━━━━━━━\u001b[0m\u001b[37m\u001b[0m \u001b[1m1s\u001b[0m 624ms/step - accuracy: 0.2330 - loss: 1.8437 - val_accuracy: 0.1755 - val_loss: 1.8747\n",
            "Epoch 25/200\n",
            "\u001b[1m1/1\u001b[0m \u001b[32m━━━━━━━━━━━━━━━━━━━━\u001b[0m\u001b[37m\u001b[0m \u001b[1m0s\u001b[0m 481ms/step - accuracy: 0.2363 - loss: 1.8361 - val_accuracy: 0.1971 - val_loss: 1.8564\n",
            "Epoch 26/200\n",
            "\u001b[1m1/1\u001b[0m \u001b[32m━━━━━━━━━━━━━━━━━━━━\u001b[0m\u001b[37m\u001b[0m \u001b[1m0s\u001b[0m 486ms/step - accuracy: 0.2375 - loss: 1.8295 - val_accuracy: 0.2157 - val_loss: 1.8348\n",
            "Epoch 27/200\n",
            "\u001b[1m1/1\u001b[0m \u001b[32m━━━━━━━━━━━━━━━━━━━━\u001b[0m\u001b[37m\u001b[0m \u001b[1m1s\u001b[0m 645ms/step - accuracy: 0.2377 - loss: 1.8248 - val_accuracy: 0.2228 - val_loss: 1.8257\n",
            "Epoch 28/200\n",
            "\u001b[1m1/1\u001b[0m \u001b[32m━━━━━━━━━━━━━━━━━━━━\u001b[0m\u001b[37m\u001b[0m \u001b[1m1s\u001b[0m 587ms/step - accuracy: 0.2398 - loss: 1.8192 - val_accuracy: 0.1713 - val_loss: 2.0024\n",
            "Epoch 29/200\n",
            "\u001b[1m1/1\u001b[0m \u001b[32m━━━━━━━━━━━━━━━━━━━━\u001b[0m\u001b[37m\u001b[0m \u001b[1m0s\u001b[0m 459ms/step - accuracy: 0.2149 - loss: 1.9188 - val_accuracy: 0.2434 - val_loss: 1.7741\n"
          ]
        },
        {
          "output_type": "execute_result",
          "data": {
            "text/plain": [
              "<keras.src.callbacks.history.History at 0x7937ff7c3850>"
            ]
          },
          "metadata": {},
          "execution_count": 105
        }
      ],
      "source": [
        "model.fit(X_train, y_cat, validation_split=0.2, epochs=200, batch_size=16, callbacks = [es])"
      ]
    },
    {
      "cell_type": "code",
      "execution_count": null,
      "id": "e27e6638-a910-458f-bf64-2892deca41d0",
      "metadata": {
        "id": "e27e6638-a910-458f-bf64-2892deca41d0",
        "colab": {
          "base_uri": "https://localhost:8080/",
          "height": 642
        },
        "outputId": "10bf0c4f-cb98-4bf3-e7ab-d20ae10347ad"
      },
      "outputs": [
        {
          "output_type": "error",
          "ename": "RasterioIOError",
          "evalue": "content/drive/MyDrive/land-cover-mapping/Sandbox data/images/aachen_57_8.tif: No such file or directory",
          "traceback": [
            "\u001b[0;31m---------------------------------------------------------------------------\u001b[0m",
            "\u001b[0;31mCPLE_OpenFailedError\u001b[0m                      Traceback (most recent call last)",
            "\u001b[0;32mrasterio/_base.pyx\u001b[0m in \u001b[0;36mrasterio._base.DatasetBase.__init__\u001b[0;34m()\u001b[0m\n",
            "\u001b[0;32mrasterio/_base.pyx\u001b[0m in \u001b[0;36mrasterio._base.open_dataset\u001b[0;34m()\u001b[0m\n",
            "\u001b[0;32mrasterio/_err.pyx\u001b[0m in \u001b[0;36mrasterio._err.exc_wrap_pointer\u001b[0;34m()\u001b[0m\n",
            "\u001b[0;31mCPLE_OpenFailedError\u001b[0m: content/drive/MyDrive/land-cover-mapping/Sandbox data/images/aachen_57_8.tif: No such file or directory",
            "\nDuring handling of the above exception, another exception occurred:\n",
            "\u001b[0;31mRasterioIOError\u001b[0m                           Traceback (most recent call last)",
            "\u001b[0;32m<ipython-input-27-f3b0e1d351f1>\u001b[0m in \u001b[0;36m<cell line: 1>\u001b[0;34m()\u001b[0m\n\u001b[0;32m----> 1\u001b[0;31m \u001b[0;32mwith\u001b[0m \u001b[0mrasterio\u001b[0m\u001b[0;34m.\u001b[0m\u001b[0mopen\u001b[0m\u001b[0;34m(\u001b[0m\u001b[0;34m\"content/drive/MyDrive/land-cover-mapping/Sandbox data/images/aachen_57_8.tif\"\u001b[0m\u001b[0;34m)\u001b[0m \u001b[0;32mas\u001b[0m \u001b[0msrc\u001b[0m\u001b[0;34m:\u001b[0m\u001b[0;34m\u001b[0m\u001b[0;34m\u001b[0m\u001b[0m\n\u001b[0m\u001b[1;32m      2\u001b[0m     \u001b[0mimage_array\u001b[0m \u001b[0;34m=\u001b[0m \u001b[0msrc\u001b[0m\u001b[0;34m.\u001b[0m\u001b[0mread\u001b[0m\u001b[0;34m(\u001b[0m\u001b[0;34m)\u001b[0m  \u001b[0;31m# (nb_bands, height, width)\u001b[0m\u001b[0;34m\u001b[0m\u001b[0;34m\u001b[0m\u001b[0m\n\u001b[1;32m      3\u001b[0m     \u001b[0mimage_array\u001b[0m \u001b[0;34m=\u001b[0m \u001b[0mnp\u001b[0m\u001b[0;34m.\u001b[0m\u001b[0mtranspose\u001b[0m\u001b[0;34m(\u001b[0m\u001b[0mimage_array\u001b[0m\u001b[0;34m,\u001b[0m \u001b[0;34m(\u001b[0m\u001b[0;36m1\u001b[0m\u001b[0;34m,\u001b[0m \u001b[0;36m2\u001b[0m\u001b[0;34m,\u001b[0m \u001b[0;36m0\u001b[0m\u001b[0;34m)\u001b[0m\u001b[0;34m)\u001b[0m\u001b[0;34m\u001b[0m\u001b[0;34m\u001b[0m\u001b[0m\n",
            "\u001b[0;32m/usr/local/lib/python3.10/dist-packages/rasterio/env.py\u001b[0m in \u001b[0;36mwrapper\u001b[0;34m(*args, **kwds)\u001b[0m\n\u001b[1;32m    461\u001b[0m \u001b[0;34m\u001b[0m\u001b[0m\n\u001b[1;32m    462\u001b[0m         \u001b[0;32mwith\u001b[0m \u001b[0menv_ctor\u001b[0m\u001b[0;34m(\u001b[0m\u001b[0msession\u001b[0m\u001b[0;34m=\u001b[0m\u001b[0msession\u001b[0m\u001b[0;34m)\u001b[0m\u001b[0;34m:\u001b[0m\u001b[0;34m\u001b[0m\u001b[0;34m\u001b[0m\u001b[0m\n\u001b[0;32m--> 463\u001b[0;31m             \u001b[0;32mreturn\u001b[0m \u001b[0mf\u001b[0m\u001b[0;34m(\u001b[0m\u001b[0;34m*\u001b[0m\u001b[0margs\u001b[0m\u001b[0;34m,\u001b[0m \u001b[0;34m**\u001b[0m\u001b[0mkwds\u001b[0m\u001b[0;34m)\u001b[0m\u001b[0;34m\u001b[0m\u001b[0;34m\u001b[0m\u001b[0m\n\u001b[0m\u001b[1;32m    464\u001b[0m \u001b[0;34m\u001b[0m\u001b[0m\n\u001b[1;32m    465\u001b[0m     \u001b[0;32mreturn\u001b[0m \u001b[0mwrapper\u001b[0m\u001b[0;34m\u001b[0m\u001b[0;34m\u001b[0m\u001b[0m\n",
            "\u001b[0;32m/usr/local/lib/python3.10/dist-packages/rasterio/__init__.py\u001b[0m in \u001b[0;36mopen\u001b[0;34m(fp, mode, driver, width, height, count, crs, transform, dtype, nodata, sharing, opener, **kwargs)\u001b[0m\n\u001b[1;32m    354\u001b[0m \u001b[0;34m\u001b[0m\u001b[0m\n\u001b[1;32m    355\u001b[0m             \u001b[0;32mif\u001b[0m \u001b[0mmode\u001b[0m \u001b[0;34m==\u001b[0m \u001b[0;34m\"r\"\u001b[0m\u001b[0;34m:\u001b[0m\u001b[0;34m\u001b[0m\u001b[0;34m\u001b[0m\u001b[0m\n\u001b[0;32m--> 356\u001b[0;31m                 \u001b[0mdataset\u001b[0m \u001b[0;34m=\u001b[0m \u001b[0mDatasetReader\u001b[0m\u001b[0;34m(\u001b[0m\u001b[0mpath\u001b[0m\u001b[0;34m,\u001b[0m \u001b[0mdriver\u001b[0m\u001b[0;34m=\u001b[0m\u001b[0mdriver\u001b[0m\u001b[0;34m,\u001b[0m \u001b[0msharing\u001b[0m\u001b[0;34m=\u001b[0m\u001b[0msharing\u001b[0m\u001b[0;34m,\u001b[0m \u001b[0;34m**\u001b[0m\u001b[0mkwargs\u001b[0m\u001b[0;34m)\u001b[0m\u001b[0;34m\u001b[0m\u001b[0;34m\u001b[0m\u001b[0m\n\u001b[0m\u001b[1;32m    357\u001b[0m             \u001b[0;32melif\u001b[0m \u001b[0mmode\u001b[0m \u001b[0;34m==\u001b[0m \u001b[0;34m\"r+\"\u001b[0m\u001b[0;34m:\u001b[0m\u001b[0;34m\u001b[0m\u001b[0;34m\u001b[0m\u001b[0m\n\u001b[1;32m    358\u001b[0m                 dataset = get_writer_for_path(path, driver=driver)(\n",
            "\u001b[0;32mrasterio/_base.pyx\u001b[0m in \u001b[0;36mrasterio._base.DatasetBase.__init__\u001b[0;34m()\u001b[0m\n",
            "\u001b[0;31mRasterioIOError\u001b[0m: content/drive/MyDrive/land-cover-mapping/Sandbox data/images/aachen_57_8.tif: No such file or directory"
          ]
        }
      ],
      "source": [
        "with rasterio.open(\"xxx\") as src:\n",
        "    image_array = src.read()  # (nb_bands, height, width)\n",
        "    image_array = np.transpose(image_array, (1, 2, 0))"
      ]
    },
    {
      "cell_type": "code",
      "execution_count": null,
      "id": "8b699a6c-29d2-4163-ba09-7a4eaf02946a",
      "metadata": {
        "id": "8b699a6c-29d2-4163-ba09-7a4eaf02946a"
      },
      "outputs": [],
      "source": []
    },
    {
      "cell_type": "code",
      "execution_count": null,
      "id": "56f1987b-bac2-4aeb-bb2d-8a842373ca5b",
      "metadata": {
        "id": "56f1987b-bac2-4aeb-bb2d-8a842373ca5b"
      },
      "outputs": [],
      "source": [
        "with rasterio.open(\"processed_data/val/labels/aachen_57_8.tif\") as src:\n",
        "    image_array_y = src.read()  # (nb_bands, height, width)"
      ]
    },
    {
      "cell_type": "code",
      "execution_count": null,
      "id": "4387337c-df25-4370-8081-78c1547d3461",
      "metadata": {
        "id": "4387337c-df25-4370-8081-78c1547d3461"
      },
      "outputs": [],
      "source": [
        "single_band = image_array_y[0]  # Supposons que `nb_bands` = 1\n",
        "\n",
        "# Afficher avec imshow\n",
        "plt.imshow(single_band)  # Utiliser cmap='gray' pour les niveaux de gris\n",
        "plt.colorbar()  # Afficher une barre de couleurs pour visualiser les valeurs\n",
        "plt.title(\"Single Band Image\")\n",
        "plt.show()"
      ]
    },
    {
      "cell_type": "code",
      "execution_count": null,
      "id": "b687ee07-a0fd-40f3-93ef-2bf8c552a108",
      "metadata": {
        "id": "b687ee07-a0fd-40f3-93ef-2bf8c552a108"
      },
      "outputs": [],
      "source": [
        "image_array_y.shape"
      ]
    },
    {
      "cell_type": "code",
      "execution_count": null,
      "id": "ba5ab78d-e4d9-4533-a34d-5800a8fab002",
      "metadata": {
        "id": "ba5ab78d-e4d9-4533-a34d-5800a8fab002"
      },
      "outputs": [],
      "source": [
        "np.expand_dims(image_array, axis = 0).shape"
      ]
    },
    {
      "cell_type": "code",
      "execution_count": null,
      "id": "3082b975-f8b6-4c42-a761-ee70f674c35c",
      "metadata": {
        "id": "3082b975-f8b6-4c42-a761-ee70f674c35c"
      },
      "outputs": [],
      "source": [
        "y_pred = model.predict(np.expand_dims(image_array, axis = 0))"
      ]
    },
    {
      "cell_type": "code",
      "execution_count": null,
      "id": "739661db-c778-4536-8dd8-3bb9f4665747",
      "metadata": {
        "id": "739661db-c778-4536-8dd8-3bb9f4665747"
      },
      "outputs": [],
      "source": [
        "y_pred.shape"
      ]
    },
    {
      "cell_type": "code",
      "execution_count": null,
      "id": "b516a8b3-730d-4386-95ee-233cbe5903bf",
      "metadata": {
        "id": "b516a8b3-730d-4386-95ee-233cbe5903bf"
      },
      "outputs": [],
      "source": [
        "fig, ax = plt.subplots(1,2, figsize = (15,15))\n",
        "ax[0].imshow(np.squeeze(tf.argmax(y_pred, axis=-1, output_type=tf.int32).numpy()))\n",
        "ax[1].imshow(image_array)"
      ]
    },
    {
      "cell_type": "code",
      "execution_count": null,
      "id": "0a195a4a-0a9c-49a5-aea1-37e0a81d548b",
      "metadata": {
        "id": "0a195a4a-0a9c-49a5-aea1-37e0a81d548b"
      },
      "outputs": [],
      "source": [
        "image_array_y.shape"
      ]
    },
    {
      "cell_type": "code",
      "execution_count": null,
      "id": "6beb484a-24ca-46dd-b170-93697a9edc0a",
      "metadata": {
        "id": "6beb484a-24ca-46dd-b170-93697a9edc0a"
      },
      "outputs": [],
      "source": [
        "fig, ax = plt.subplots(1,2, figsize = (15,15))\n",
        "ax[0].imshow(np.squeeze(tf.argmax(y_pred, axis=-1, output_type=tf.int32).numpy()))\n",
        "ax[1].imshow(image_array)"
      ]
    },
    {
      "cell_type": "markdown",
      "id": "f540936b-2df0-4b3b-ac85-929a4edbc0cf",
      "metadata": {
        "id": "f540936b-2df0-4b3b-ac85-929a4edbc0cf"
      },
      "source": [
        "## Next step model comme VG16 (regarder Notion)"
      ]
    },
    {
      "cell_type": "code",
      "execution_count": null,
      "id": "1480a7b9-ed53-4c5a-8ec2-5aae626d783c",
      "metadata": {
        "id": "1480a7b9-ed53-4c5a-8ec2-5aae626d783c"
      },
      "outputs": [],
      "source": []
    }
  ],
  "metadata": {
    "kernelspec": {
      "display_name": "Python 3",
      "name": "python3"
    },
    "language_info": {
      "codemirror_mode": {
        "name": "ipython",
        "version": 3
      },
      "file_extension": ".py",
      "mimetype": "text/x-python",
      "name": "python",
      "nbconvert_exporter": "python",
      "pygments_lexer": "ipython3",
      "version": "3.10.6"
    },
    "colab": {
      "provenance": [],
      "gpuType": "T4"
    },
    "accelerator": "GPU"
  },
  "nbformat": 4,
  "nbformat_minor": 5
}