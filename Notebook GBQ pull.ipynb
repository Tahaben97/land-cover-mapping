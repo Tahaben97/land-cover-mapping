{
 "cells": [
  {
   "cell_type": "code",
   "execution_count": 1,
   "id": "b481c5c2-4552-466b-b23b-2ae9503a10bc",
   "metadata": {},
   "outputs": [],
   "source": [
    "from google.cloud import storage"
   ]
  },
  {
   "cell_type": "code",
   "execution_count": 19,
   "id": "918242ec-4dd8-42f5-9f0a-648d08ebdeca",
   "metadata": {},
   "outputs": [],
   "source": [
    "client = storage.Client.from_service_account_json(\"/root/code/Tahaben97/land-cover-mapping/raw_data/service-account-key.json\")"
   ]
  },
  {
   "cell_type": "code",
   "execution_count": 20,
   "id": "6f70b070-dfe7-4d65-9360-1cb25784dba1",
   "metadata": {},
   "outputs": [],
   "source": [
    "bucket_name = \"land-cover-mapping-lewagon1831\""
   ]
  },
  {
   "cell_type": "code",
   "execution_count": 22,
   "id": "08e154ba-de5a-4127-928f-2522a8fd6e91",
   "metadata": {},
   "outputs": [],
   "source": [
    "image_file_name = \"data_sample/images/aachen_1.tif\""
   ]
  },
  {
   "cell_type": "code",
   "execution_count": 23,
   "id": "a6d50140-cd09-4861-8ca6-9bd85a48ddf8",
   "metadata": {},
   "outputs": [],
   "source": [
    "bucket = client.get_bucket(bucket_name)"
   ]
  },
  {
   "cell_type": "code",
   "execution_count": 24,
   "id": "0c40af7f-e009-48bf-9d23-8b7399618a31",
   "metadata": {},
   "outputs": [
    {
     "data": {
      "text/plain": [
       "google.cloud.storage.bucket.Bucket"
      ]
     },
     "execution_count": 24,
     "metadata": {},
     "output_type": "execute_result"
    }
   ],
   "source": [
    "type(bucket)"
   ]
  },
  {
   "cell_type": "code",
   "execution_count": 25,
   "id": "2ef6e59e-f3ac-4999-96c2-f80d87fbdbe9",
   "metadata": {},
   "outputs": [],
   "source": [
    "blob = bucket.blob(image_file_name)"
   ]
  },
  {
   "cell_type": "code",
   "execution_count": 26,
   "id": "7078b756-5da9-4c23-a6a0-dd44e689090e",
   "metadata": {},
   "outputs": [
    {
     "data": {
      "text/plain": [
       "google.cloud.storage.blob.Blob"
      ]
     },
     "execution_count": 26,
     "metadata": {},
     "output_type": "execute_result"
    }
   ],
   "source": [
    "type(blob)"
   ]
  },
  {
   "cell_type": "code",
   "execution_count": 28,
   "id": "76cf2e19-4d87-4e08-8667-818aeddd0df0",
   "metadata": {},
   "outputs": [],
   "source": [
    "image = blob.download_as_bytes()"
   ]
  },
  {
   "cell_type": "code",
   "execution_count": 31,
   "id": "3fd42f42-1d0d-48f9-9b00-1890c6c8b460",
   "metadata": {},
   "outputs": [
    {
     "data": {
      "text/plain": [
       "bytes"
      ]
     },
     "execution_count": 31,
     "metadata": {},
     "output_type": "execute_result"
    }
   ],
   "source": [
    "type(image)"
   ]
  },
  {
   "cell_type": "code",
   "execution_count": 39,
   "id": "51c7d145-d3c3-4a3e-b4c3-2134f38c92eb",
   "metadata": {},
   "outputs": [],
   "source": [
    "from PIL import Image\n",
    "import io"
   ]
  },
  {
   "cell_type": "code",
   "execution_count": 44,
   "id": "066232e5-d710-4075-b69d-7aa82e27f141",
   "metadata": {},
   "outputs": [],
   "source": [
    "image_decoded = Image.open(io.BytesIO(image))"
   ]
  },
  {
   "cell_type": "code",
   "execution_count": 46,
   "id": "fd5255df-9977-4a7b-855b-d0c3cf4433a4",
   "metadata": {},
   "outputs": [],
   "source": [
    "image_decoded.show()"
   ]
  },
  {
   "cell_type": "code",
   "execution_count": 48,
   "id": "29fe0c1f-0126-4ea0-aa37-781abd735afe",
   "metadata": {},
   "outputs": [
    {
     "data": {
      "text/plain": [
       "PIL.TiffImagePlugin.TiffImageFile"
      ]
     },
     "execution_count": 48,
     "metadata": {},
     "output_type": "execute_result"
    }
   ],
   "source": [
    "type(image_decoded)"
   ]
  }
 ],
 "metadata": {
  "kernelspec": {
   "display_name": "Python 3 (ipykernel)",
   "language": "python",
   "name": "python3"
  },
  "language_info": {
   "codemirror_mode": {
    "name": "ipython",
    "version": 3
   },
   "file_extension": ".py",
   "mimetype": "text/x-python",
   "name": "python",
   "nbconvert_exporter": "python",
   "pygments_lexer": "ipython3",
   "version": "3.10.6"
  }
 },
 "nbformat": 4,
 "nbformat_minor": 5
}
